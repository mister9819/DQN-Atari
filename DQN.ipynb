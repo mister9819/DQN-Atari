{
  "nbformat": 4,
  "nbformat_minor": 0,
  "metadata": {
    "accelerator": "TPU",
    "colab": {
      "name": "Breakout_RAM_CNN.ipynb",
      "provenance": [],
      "collapsed_sections": []
    },
    "kernelspec": {
      "display_name": "Python 3",
      "name": "python3"
    },
    "language_info": {
      "name": "python"
    }
  },
  "cells": [
    {
      "cell_type": "code",
      "metadata": {
        "id": "8psIQdeI1_To",
        "colab": {
          "base_uri": "https://localhost:8080/"
        },
        "outputId": "e52546f5-4a1f-41e9-f2e0-b24571895b29"
      },
      "source": [
        "!pip install tensorflow gym keras-rl2 gym[atari]"
      ],
      "execution_count": null,
      "outputs": [
        {
          "output_type": "stream",
          "name": "stdout",
          "text": [
            "Requirement already satisfied: tensorflow in /usr/local/lib/python3.7/dist-packages (2.7.0)\n",
            "Requirement already satisfied: gym in /usr/local/lib/python3.7/dist-packages (0.17.3)\n",
            "Collecting keras-rl2\n",
            "  Downloading keras_rl2-1.0.5-py3-none-any.whl (52 kB)\n",
            "\u001b[K     |████████████████████████████████| 52 kB 675 kB/s \n",
            "\u001b[?25hRequirement already satisfied: keras-preprocessing>=1.1.1 in /usr/local/lib/python3.7/dist-packages (from tensorflow) (1.1.2)\n",
            "Requirement already satisfied: wrapt>=1.11.0 in /usr/local/lib/python3.7/dist-packages (from tensorflow) (1.13.3)\n",
            "Requirement already satisfied: libclang>=9.0.1 in /usr/local/lib/python3.7/dist-packages (from tensorflow) (12.0.0)\n",
            "Requirement already satisfied: flatbuffers<3.0,>=1.12 in /usr/local/lib/python3.7/dist-packages (from tensorflow) (2.0)\n",
            "Requirement already satisfied: termcolor>=1.1.0 in /usr/local/lib/python3.7/dist-packages (from tensorflow) (1.1.0)\n",
            "Requirement already satisfied: astunparse>=1.6.0 in /usr/local/lib/python3.7/dist-packages (from tensorflow) (1.6.3)\n",
            "Requirement already satisfied: typing-extensions>=3.6.6 in /usr/local/lib/python3.7/dist-packages (from tensorflow) (3.10.0.2)\n",
            "Requirement already satisfied: h5py>=2.9.0 in /usr/local/lib/python3.7/dist-packages (from tensorflow) (3.1.0)\n",
            "Requirement already satisfied: numpy>=1.14.5 in /usr/local/lib/python3.7/dist-packages (from tensorflow) (1.19.5)\n",
            "Requirement already satisfied: tensorboard~=2.6 in /usr/local/lib/python3.7/dist-packages (from tensorflow) (2.7.0)\n",
            "Requirement already satisfied: grpcio<2.0,>=1.24.3 in /usr/local/lib/python3.7/dist-packages (from tensorflow) (1.42.0)\n",
            "Requirement already satisfied: keras<2.8,>=2.7.0rc0 in /usr/local/lib/python3.7/dist-packages (from tensorflow) (2.7.0)\n",
            "Requirement already satisfied: tensorflow-estimator<2.8,~=2.7.0rc0 in /usr/local/lib/python3.7/dist-packages (from tensorflow) (2.7.0)\n",
            "Requirement already satisfied: protobuf>=3.9.2 in /usr/local/lib/python3.7/dist-packages (from tensorflow) (3.17.3)\n",
            "Requirement already satisfied: six>=1.12.0 in /usr/local/lib/python3.7/dist-packages (from tensorflow) (1.15.0)\n",
            "Requirement already satisfied: gast<0.5.0,>=0.2.1 in /usr/local/lib/python3.7/dist-packages (from tensorflow) (0.4.0)\n",
            "Requirement already satisfied: wheel<1.0,>=0.32.0 in /usr/local/lib/python3.7/dist-packages (from tensorflow) (0.37.0)\n",
            "Requirement already satisfied: google-pasta>=0.1.1 in /usr/local/lib/python3.7/dist-packages (from tensorflow) (0.2.0)\n",
            "Requirement already satisfied: tensorflow-io-gcs-filesystem>=0.21.0 in /usr/local/lib/python3.7/dist-packages (from tensorflow) (0.22.0)\n",
            "Requirement already satisfied: absl-py>=0.4.0 in /usr/local/lib/python3.7/dist-packages (from tensorflow) (0.12.0)\n",
            "Requirement already satisfied: opt-einsum>=2.3.2 in /usr/local/lib/python3.7/dist-packages (from tensorflow) (3.3.0)\n",
            "Requirement already satisfied: cached-property in /usr/local/lib/python3.7/dist-packages (from h5py>=2.9.0->tensorflow) (1.5.2)\n",
            "Requirement already satisfied: requests<3,>=2.21.0 in /usr/local/lib/python3.7/dist-packages (from tensorboard~=2.6->tensorflow) (2.23.0)\n",
            "Requirement already satisfied: setuptools>=41.0.0 in /usr/local/lib/python3.7/dist-packages (from tensorboard~=2.6->tensorflow) (57.4.0)\n",
            "Requirement already satisfied: tensorboard-data-server<0.7.0,>=0.6.0 in /usr/local/lib/python3.7/dist-packages (from tensorboard~=2.6->tensorflow) (0.6.1)\n",
            "Requirement already satisfied: google-auth-oauthlib<0.5,>=0.4.1 in /usr/local/lib/python3.7/dist-packages (from tensorboard~=2.6->tensorflow) (0.4.6)\n",
            "Requirement already satisfied: markdown>=2.6.8 in /usr/local/lib/python3.7/dist-packages (from tensorboard~=2.6->tensorflow) (3.3.6)\n",
            "Requirement already satisfied: google-auth<3,>=1.6.3 in /usr/local/lib/python3.7/dist-packages (from tensorboard~=2.6->tensorflow) (1.35.0)\n",
            "Requirement already satisfied: werkzeug>=0.11.15 in /usr/local/lib/python3.7/dist-packages (from tensorboard~=2.6->tensorflow) (1.0.1)\n",
            "Requirement already satisfied: tensorboard-plugin-wit>=1.6.0 in /usr/local/lib/python3.7/dist-packages (from tensorboard~=2.6->tensorflow) (1.8.0)\n",
            "Requirement already satisfied: rsa<5,>=3.1.4 in /usr/local/lib/python3.7/dist-packages (from google-auth<3,>=1.6.3->tensorboard~=2.6->tensorflow) (4.8)\n",
            "Requirement already satisfied: pyasn1-modules>=0.2.1 in /usr/local/lib/python3.7/dist-packages (from google-auth<3,>=1.6.3->tensorboard~=2.6->tensorflow) (0.2.8)\n",
            "Requirement already satisfied: cachetools<5.0,>=2.0.0 in /usr/local/lib/python3.7/dist-packages (from google-auth<3,>=1.6.3->tensorboard~=2.6->tensorflow) (4.2.4)\n",
            "Requirement already satisfied: requests-oauthlib>=0.7.0 in /usr/local/lib/python3.7/dist-packages (from google-auth-oauthlib<0.5,>=0.4.1->tensorboard~=2.6->tensorflow) (1.3.0)\n",
            "Requirement already satisfied: importlib-metadata>=4.4 in /usr/local/lib/python3.7/dist-packages (from markdown>=2.6.8->tensorboard~=2.6->tensorflow) (4.8.2)\n",
            "Requirement already satisfied: zipp>=0.5 in /usr/local/lib/python3.7/dist-packages (from importlib-metadata>=4.4->markdown>=2.6.8->tensorboard~=2.6->tensorflow) (3.6.0)\n",
            "Requirement already satisfied: pyasn1<0.5.0,>=0.4.6 in /usr/local/lib/python3.7/dist-packages (from pyasn1-modules>=0.2.1->google-auth<3,>=1.6.3->tensorboard~=2.6->tensorflow) (0.4.8)\n",
            "Requirement already satisfied: certifi>=2017.4.17 in /usr/local/lib/python3.7/dist-packages (from requests<3,>=2.21.0->tensorboard~=2.6->tensorflow) (2021.10.8)\n",
            "Requirement already satisfied: idna<3,>=2.5 in /usr/local/lib/python3.7/dist-packages (from requests<3,>=2.21.0->tensorboard~=2.6->tensorflow) (2.10)\n",
            "Requirement already satisfied: urllib3!=1.25.0,!=1.25.1,<1.26,>=1.21.1 in /usr/local/lib/python3.7/dist-packages (from requests<3,>=2.21.0->tensorboard~=2.6->tensorflow) (1.24.3)\n",
            "Requirement already satisfied: chardet<4,>=3.0.2 in /usr/local/lib/python3.7/dist-packages (from requests<3,>=2.21.0->tensorboard~=2.6->tensorflow) (3.0.4)\n",
            "Requirement already satisfied: oauthlib>=3.0.0 in /usr/local/lib/python3.7/dist-packages (from requests-oauthlib>=0.7.0->google-auth-oauthlib<0.5,>=0.4.1->tensorboard~=2.6->tensorflow) (3.1.1)\n",
            "Requirement already satisfied: pyglet<=1.5.0,>=1.4.0 in /usr/local/lib/python3.7/dist-packages (from gym) (1.5.0)\n",
            "Requirement already satisfied: scipy in /usr/local/lib/python3.7/dist-packages (from gym) (1.4.1)\n",
            "Requirement already satisfied: cloudpickle<1.7.0,>=1.2.0 in /usr/local/lib/python3.7/dist-packages (from gym) (1.3.0)\n",
            "Requirement already satisfied: future in /usr/local/lib/python3.7/dist-packages (from pyglet<=1.5.0,>=1.4.0->gym) (0.16.0)\n",
            "Requirement already satisfied: Pillow in /usr/local/lib/python3.7/dist-packages (from gym) (7.1.2)\n",
            "Requirement already satisfied: atari-py~=0.2.0 in /usr/local/lib/python3.7/dist-packages (from gym) (0.2.9)\n",
            "Requirement already satisfied: opencv-python in /usr/local/lib/python3.7/dist-packages (from gym) (4.1.2.30)\n",
            "Installing collected packages: keras-rl2\n",
            "Successfully installed keras-rl2-1.0.5\n"
          ]
        }
      ]
    },
    {
      "cell_type": "code",
      "metadata": {
        "id": "mCl-hUgr2wGg"
      },
      "source": [
        "import gym\n",
        "import random\n",
        "import matplotlib.pyplot as plt\n",
        "import seaborn as sns\n",
        "sns.set_style('white')"
      ],
      "execution_count": null,
      "outputs": []
    },
    {
      "cell_type": "code",
      "metadata": {
        "colab": {
          "base_uri": "https://localhost:8080/"
        },
        "id": "VBJDv0Fs3bZt",
        "outputId": "74d10734-5cf8-4cef-dca8-6f6e145991f0"
      },
      "source": [
        "import urllib.request\n",
        "urllib.request.urlretrieve('http://www.atarimania.com/roms/Roms.rar','Roms.rar')\n",
        "!pip install unrar\n",
        "!unrar x Roms.rar\n",
        "!mkdir rars\n",
        "!mv HC\\ ROMS.zip   rars\n",
        "!mv ROMS.zip  rars\n",
        "!python -m atari_py.import_roms rars"
      ],
      "execution_count": null,
      "outputs": [
        {
          "output_type": "stream",
          "name": "stdout",
          "text": [
            "Collecting unrar\n",
            "  Downloading unrar-0.4-py3-none-any.whl (25 kB)\n",
            "Installing collected packages: unrar\n",
            "Successfully installed unrar-0.4\n",
            "\n",
            "UNRAR 5.50 freeware      Copyright (c) 1993-2017 Alexander Roshal\n",
            "\n",
            "\n",
            "Extracting from Roms.rar\n",
            "\n",
            "Extracting  HC ROMS.zip                                                  \b\b\b\b 36%\b\b\b\b\b  OK \n",
            "Extracting  ROMS.zip                                                     \b\b\b\b 74%\b\b\b\b 99%\b\b\b\b\b  OK \n",
            "All OK\n",
            "copying adventure.bin from HC ROMS/BY ALPHABET (PAL)/A-G/Adventure (PAL).bin to /usr/local/lib/python3.7/dist-packages/atari_py/atari_roms/adventure.bin\n",
            "copying air_raid.bin from HC ROMS/BY ALPHABET (PAL)/A-G/Air Raid (PAL).bin to /usr/local/lib/python3.7/dist-packages/atari_py/atari_roms/air_raid.bin\n",
            "copying alien.bin from HC ROMS/BY ALPHABET (PAL)/A-G/REMAINING NTSC ORIGINALS/Alien.bin to /usr/local/lib/python3.7/dist-packages/atari_py/atari_roms/alien.bin\n",
            "copying crazy_climber.bin from HC ROMS/BY ALPHABET (PAL)/A-G/REMAINING NTSC ORIGINALS/Crazy Climber.bin to /usr/local/lib/python3.7/dist-packages/atari_py/atari_roms/crazy_climber.bin\n",
            "copying elevator_action.bin from HC ROMS/BY ALPHABET (PAL)/A-G/REMAINING NTSC ORIGINALS/Elevator Action (Prototype).bin to /usr/local/lib/python3.7/dist-packages/atari_py/atari_roms/elevator_action.bin\n",
            "copying gravitar.bin from HC ROMS/BY ALPHABET (PAL)/A-G/REMAINING NTSC ORIGINALS/Gravitar.bin to /usr/local/lib/python3.7/dist-packages/atari_py/atari_roms/gravitar.bin\n",
            "copying keystone_kapers.bin from HC ROMS/BY ALPHABET (PAL)/H-R/Keystone Kapers (PAL).bin to /usr/local/lib/python3.7/dist-packages/atari_py/atari_roms/keystone_kapers.bin\n",
            "copying king_kong.bin from HC ROMS/BY ALPHABET (PAL)/H-R/King Kong (PAL).bin to /usr/local/lib/python3.7/dist-packages/atari_py/atari_roms/king_kong.bin\n",
            "copying laser_gates.bin from HC ROMS/BY ALPHABET (PAL)/H-R/Laser Gates (PAL).bin to /usr/local/lib/python3.7/dist-packages/atari_py/atari_roms/laser_gates.bin\n",
            "copying mr_do.bin from HC ROMS/BY ALPHABET (PAL)/H-R/Mr. Do! (PAL).bin to /usr/local/lib/python3.7/dist-packages/atari_py/atari_roms/mr_do.bin\n",
            "copying pacman.bin from HC ROMS/BY ALPHABET (PAL)/H-R/Pac-Man (PAL).bin to /usr/local/lib/python3.7/dist-packages/atari_py/atari_roms/pacman.bin\n",
            "copying jamesbond.bin from HC ROMS/BY ALPHABET (PAL)/H-R/REMAINING NTSC ORIGINALS/James Bond 007.bin to /usr/local/lib/python3.7/dist-packages/atari_py/atari_roms/jamesbond.bin\n",
            "copying koolaid.bin from HC ROMS/BY ALPHABET (PAL)/H-R/REMAINING NTSC ORIGINALS/Kool-Aid Man.bin to /usr/local/lib/python3.7/dist-packages/atari_py/atari_roms/koolaid.bin\n",
            "copying krull.bin from HC ROMS/BY ALPHABET (PAL)/H-R/REMAINING NTSC ORIGINALS/Krull.bin to /usr/local/lib/python3.7/dist-packages/atari_py/atari_roms/krull.bin\n",
            "copying montezuma_revenge.bin from HC ROMS/BY ALPHABET (PAL)/H-R/REMAINING NTSC ORIGINALS/Montezuma's Revenge - Featuring Panama Joe.bin to /usr/local/lib/python3.7/dist-packages/atari_py/atari_roms/montezuma_revenge.bin\n",
            "copying star_gunner.bin from HC ROMS/BY ALPHABET (PAL)/S-Z/REMAINING NTSC ORIGINALS/Stargunner.bin to /usr/local/lib/python3.7/dist-packages/atari_py/atari_roms/star_gunner.bin\n",
            "copying time_pilot.bin from HC ROMS/BY ALPHABET (PAL)/S-Z/REMAINING NTSC ORIGINALS/Time Pilot.bin to /usr/local/lib/python3.7/dist-packages/atari_py/atari_roms/time_pilot.bin\n",
            "copying up_n_down.bin from HC ROMS/BY ALPHABET (PAL)/S-Z/REMAINING NTSC ORIGINALS/Up 'n Down.bin to /usr/local/lib/python3.7/dist-packages/atari_py/atari_roms/up_n_down.bin\n",
            "copying sir_lancelot.bin from HC ROMS/BY ALPHABET (PAL)/S-Z/Sir Lancelot (PAL).bin to /usr/local/lib/python3.7/dist-packages/atari_py/atari_roms/sir_lancelot.bin\n",
            "copying amidar.bin from HC ROMS/BY ALPHABET/A-G/Amidar.bin to /usr/local/lib/python3.7/dist-packages/atari_py/atari_roms/amidar.bin\n",
            "copying asteroids.bin from HC ROMS/BY ALPHABET/A-G/Asteroids [no copyright].bin to /usr/local/lib/python3.7/dist-packages/atari_py/atari_roms/asteroids.bin\n",
            "copying atlantis.bin from HC ROMS/BY ALPHABET/A-G/Atlantis.bin to /usr/local/lib/python3.7/dist-packages/atari_py/atari_roms/atlantis.bin\n",
            "copying bank_heist.bin from HC ROMS/BY ALPHABET/A-G/Bank Heist.bin to /usr/local/lib/python3.7/dist-packages/atari_py/atari_roms/bank_heist.bin\n",
            "copying battle_zone.bin from HC ROMS/BY ALPHABET/A-G/Battlezone.bin to /usr/local/lib/python3.7/dist-packages/atari_py/atari_roms/battle_zone.bin\n",
            "copying beam_rider.bin from HC ROMS/BY ALPHABET/A-G/Beamrider.bin to /usr/local/lib/python3.7/dist-packages/atari_py/atari_roms/beam_rider.bin\n",
            "copying berzerk.bin from HC ROMS/BY ALPHABET/A-G/Berzerk.bin to /usr/local/lib/python3.7/dist-packages/atari_py/atari_roms/berzerk.bin\n",
            "copying bowling.bin from HC ROMS/BY ALPHABET/A-G/Bowling.bin to /usr/local/lib/python3.7/dist-packages/atari_py/atari_roms/bowling.bin\n",
            "copying boxing.bin from HC ROMS/BY ALPHABET/A-G/Boxing.bin to /usr/local/lib/python3.7/dist-packages/atari_py/atari_roms/boxing.bin\n",
            "copying breakout.bin from HC ROMS/BY ALPHABET/A-G/Breakout - Breakaway IV.bin to /usr/local/lib/python3.7/dist-packages/atari_py/atari_roms/breakout.bin\n",
            "copying carnival.bin from HC ROMS/BY ALPHABET/A-G/Carnival.bin to /usr/local/lib/python3.7/dist-packages/atari_py/atari_roms/carnival.bin\n",
            "copying centipede.bin from HC ROMS/BY ALPHABET/A-G/Centipede.bin to /usr/local/lib/python3.7/dist-packages/atari_py/atari_roms/centipede.bin\n",
            "copying chopper_command.bin from HC ROMS/BY ALPHABET/A-G/Chopper Command.bin to /usr/local/lib/python3.7/dist-packages/atari_py/atari_roms/chopper_command.bin\n",
            "copying defender.bin from HC ROMS/BY ALPHABET/A-G/Defender.bin to /usr/local/lib/python3.7/dist-packages/atari_py/atari_roms/defender.bin\n",
            "copying demon_attack.bin from HC ROMS/BY ALPHABET/A-G/Demon Attack.bin to /usr/local/lib/python3.7/dist-packages/atari_py/atari_roms/demon_attack.bin\n",
            "copying donkey_kong.bin from HC ROMS/BY ALPHABET/A-G/Donkey Kong.bin to /usr/local/lib/python3.7/dist-packages/atari_py/atari_roms/donkey_kong.bin\n",
            "copying double_dunk.bin from HC ROMS/BY ALPHABET/A-G/Double Dunk.bin to /usr/local/lib/python3.7/dist-packages/atari_py/atari_roms/double_dunk.bin\n",
            "copying enduro.bin from HC ROMS/BY ALPHABET/A-G/Enduro.bin to /usr/local/lib/python3.7/dist-packages/atari_py/atari_roms/enduro.bin\n",
            "copying fishing_derby.bin from HC ROMS/BY ALPHABET/A-G/Fishing Derby.bin to /usr/local/lib/python3.7/dist-packages/atari_py/atari_roms/fishing_derby.bin\n",
            "copying freeway.bin from HC ROMS/BY ALPHABET/A-G/Freeway.bin to /usr/local/lib/python3.7/dist-packages/atari_py/atari_roms/freeway.bin\n",
            "copying frogger.bin from HC ROMS/BY ALPHABET/A-G/Frogger.bin to /usr/local/lib/python3.7/dist-packages/atari_py/atari_roms/frogger.bin\n",
            "copying frostbite.bin from HC ROMS/BY ALPHABET/A-G/Frostbite.bin to /usr/local/lib/python3.7/dist-packages/atari_py/atari_roms/frostbite.bin\n",
            "copying galaxian.bin from HC ROMS/BY ALPHABET/A-G/Galaxian.bin to /usr/local/lib/python3.7/dist-packages/atari_py/atari_roms/galaxian.bin\n",
            "copying gopher.bin from HC ROMS/BY ALPHABET/A-G/Gopher.bin to /usr/local/lib/python3.7/dist-packages/atari_py/atari_roms/gopher.bin\n",
            "copying hero.bin from HC ROMS/BY ALPHABET/H-R/H.E.R.O..bin to /usr/local/lib/python3.7/dist-packages/atari_py/atari_roms/hero.bin\n",
            "copying ice_hockey.bin from HC ROMS/BY ALPHABET/H-R/Ice Hockey.bin to /usr/local/lib/python3.7/dist-packages/atari_py/atari_roms/ice_hockey.bin\n",
            "copying journey_escape.bin from HC ROMS/BY ALPHABET/H-R/Journey Escape.bin to /usr/local/lib/python3.7/dist-packages/atari_py/atari_roms/journey_escape.bin\n",
            "copying kaboom.bin from HC ROMS/BY ALPHABET/H-R/Kaboom!.bin to /usr/local/lib/python3.7/dist-packages/atari_py/atari_roms/kaboom.bin\n",
            "copying kangaroo.bin from HC ROMS/BY ALPHABET/H-R/Kangaroo.bin to /usr/local/lib/python3.7/dist-packages/atari_py/atari_roms/kangaroo.bin\n",
            "copying kung_fu_master.bin from HC ROMS/BY ALPHABET/H-R/Kung-Fu Master.bin to /usr/local/lib/python3.7/dist-packages/atari_py/atari_roms/kung_fu_master.bin\n",
            "copying lost_luggage.bin from HC ROMS/BY ALPHABET/H-R/Lost Luggage [no opening scene].bin to /usr/local/lib/python3.7/dist-packages/atari_py/atari_roms/lost_luggage.bin\n",
            "copying ms_pacman.bin from HC ROMS/BY ALPHABET/H-R/Ms. Pac-Man.bin to /usr/local/lib/python3.7/dist-packages/atari_py/atari_roms/ms_pacman.bin\n",
            "copying name_this_game.bin from HC ROMS/BY ALPHABET/H-R/Name This Game.bin to /usr/local/lib/python3.7/dist-packages/atari_py/atari_roms/name_this_game.bin\n",
            "copying phoenix.bin from HC ROMS/BY ALPHABET/H-R/Phoenix.bin to /usr/local/lib/python3.7/dist-packages/atari_py/atari_roms/phoenix.bin\n",
            "copying pitfall.bin from HC ROMS/BY ALPHABET/H-R/Pitfall! - Pitfall Harry's Jungle Adventure.bin to /usr/local/lib/python3.7/dist-packages/atari_py/atari_roms/pitfall.bin\n",
            "copying pooyan.bin from HC ROMS/BY ALPHABET/H-R/Pooyan.bin to /usr/local/lib/python3.7/dist-packages/atari_py/atari_roms/pooyan.bin\n",
            "copying private_eye.bin from HC ROMS/BY ALPHABET/H-R/Private Eye.bin to /usr/local/lib/python3.7/dist-packages/atari_py/atari_roms/private_eye.bin\n",
            "copying qbert.bin from HC ROMS/BY ALPHABET/H-R/Q-bert.bin to /usr/local/lib/python3.7/dist-packages/atari_py/atari_roms/qbert.bin\n",
            "copying riverraid.bin from HC ROMS/BY ALPHABET/H-R/River Raid.bin to /usr/local/lib/python3.7/dist-packages/atari_py/atari_roms/riverraid.bin\n",
            "copying road_runner.bin from patched version of HC ROMS/BY ALPHABET/H-R/Road Runner.bin to /usr/local/lib/python3.7/dist-packages/atari_py/atari_roms/road_runner.bin\n",
            "copying robotank.bin from HC ROMS/BY ALPHABET/H-R/Robot Tank.bin to /usr/local/lib/python3.7/dist-packages/atari_py/atari_roms/robotank.bin\n",
            "copying seaquest.bin from HC ROMS/BY ALPHABET/S-Z/Seaquest.bin to /usr/local/lib/python3.7/dist-packages/atari_py/atari_roms/seaquest.bin\n",
            "copying skiing.bin from HC ROMS/BY ALPHABET/S-Z/Skiing.bin to /usr/local/lib/python3.7/dist-packages/atari_py/atari_roms/skiing.bin\n",
            "copying solaris.bin from HC ROMS/BY ALPHABET/S-Z/Solaris.bin to /usr/local/lib/python3.7/dist-packages/atari_py/atari_roms/solaris.bin\n",
            "copying space_invaders.bin from HC ROMS/BY ALPHABET/S-Z/Space Invaders.bin to /usr/local/lib/python3.7/dist-packages/atari_py/atari_roms/space_invaders.bin\n",
            "copying surround.bin from HC ROMS/BY ALPHABET/S-Z/Surround - Chase.bin to /usr/local/lib/python3.7/dist-packages/atari_py/atari_roms/surround.bin\n",
            "copying tennis.bin from HC ROMS/BY ALPHABET/S-Z/Tennis.bin to /usr/local/lib/python3.7/dist-packages/atari_py/atari_roms/tennis.bin\n",
            "copying trondead.bin from HC ROMS/BY ALPHABET/S-Z/TRON - Deadly Discs.bin to /usr/local/lib/python3.7/dist-packages/atari_py/atari_roms/trondead.bin\n",
            "copying tutankham.bin from HC ROMS/BY ALPHABET/S-Z/Tutankham.bin to /usr/local/lib/python3.7/dist-packages/atari_py/atari_roms/tutankham.bin\n",
            "copying venture.bin from HC ROMS/BY ALPHABET/S-Z/Venture.bin to /usr/local/lib/python3.7/dist-packages/atari_py/atari_roms/venture.bin\n",
            "copying pong.bin from HC ROMS/BY ALPHABET/S-Z/Video Olympics - Pong Sports.bin to /usr/local/lib/python3.7/dist-packages/atari_py/atari_roms/pong.bin\n",
            "copying video_pinball.bin from HC ROMS/BY ALPHABET/S-Z/Video Pinball - Arcade Pinball.bin to /usr/local/lib/python3.7/dist-packages/atari_py/atari_roms/video_pinball.bin\n",
            "copying wizard_of_wor.bin from HC ROMS/BY ALPHABET/S-Z/Wizard of Wor.bin to /usr/local/lib/python3.7/dist-packages/atari_py/atari_roms/wizard_of_wor.bin\n",
            "copying yars_revenge.bin from HC ROMS/BY ALPHABET/S-Z/Yars' Revenge.bin to /usr/local/lib/python3.7/dist-packages/atari_py/atari_roms/yars_revenge.bin\n",
            "copying zaxxon.bin from HC ROMS/BY ALPHABET/S-Z/Zaxxon.bin to /usr/local/lib/python3.7/dist-packages/atari_py/atari_roms/zaxxon.bin\n",
            "copying assault.bin from HC ROMS/NTSC VERSIONS OF PAL ORIGINALS/Assault (AKA Sky Alien) (1983) (Bomb - Onbase) (CA281).bin to /usr/local/lib/python3.7/dist-packages/atari_py/atari_roms/assault.bin\n",
            "copying asterix.bin from ROMS/Asterix (AKA Taz) (07-27-1983) (Atari, Jerome Domurat, Steve Woita) (CX2696) (Prototype).bin to /usr/local/lib/python3.7/dist-packages/atari_py/atari_roms/asterix.bin\n"
          ]
        }
      ]
    },
    {
      "cell_type": "code",
      "metadata": {
        "colab": {
          "base_uri": "https://localhost:8080/"
        },
        "id": "o7tMn8lFnpM6",
        "outputId": "47d377bf-0b71-4970-aa93-5eff1cf4db5a"
      },
      "source": [
        "import tensorflow as tf\n",
        "try:\n",
        "  tpu = tf.distribute.cluster_resolver.TPUClusterResolver()  # TPU detection\n",
        "  print('Running on TPU ', tpu.cluster_spec().as_dict()['worker'])\n",
        "except ValueError:\n",
        "  raise BaseException('ERROR: Not connected to a TPU runtime; please see the previous cell in this notebook for instructions!')\n",
        "\n",
        "tf.config.experimental_connect_to_cluster(tpu)\n",
        "tf.tpu.experimental.initialize_tpu_system(tpu)\n",
        "tpu_strategy = tf.distribute.experimental.TPUStrategy(tpu)"
      ],
      "execution_count": null,
      "outputs": [
        {
          "output_type": "stream",
          "name": "stdout",
          "text": [
            "Running on TPU  ['10.85.16.234:8470']\n",
            "INFO:tensorflow:Deallocate tpu buffers before initializing tpu system.\n"
          ]
        },
        {
          "output_type": "stream",
          "name": "stderr",
          "text": [
            "INFO:tensorflow:Deallocate tpu buffers before initializing tpu system.\n"
          ]
        },
        {
          "output_type": "stream",
          "name": "stdout",
          "text": [
            "INFO:tensorflow:Initializing the TPU system: grpc://10.85.16.234:8470\n"
          ]
        },
        {
          "output_type": "stream",
          "name": "stderr",
          "text": [
            "INFO:tensorflow:Initializing the TPU system: grpc://10.85.16.234:8470\n"
          ]
        },
        {
          "output_type": "stream",
          "name": "stdout",
          "text": [
            "INFO:tensorflow:Finished initializing TPU system.\n"
          ]
        },
        {
          "output_type": "stream",
          "name": "stderr",
          "text": [
            "INFO:tensorflow:Finished initializing TPU system.\n",
            "WARNING:absl:`tf.distribute.experimental.TPUStrategy` is deprecated, please use  the non experimental symbol `tf.distribute.TPUStrategy` instead.\n"
          ]
        },
        {
          "output_type": "stream",
          "name": "stdout",
          "text": [
            "INFO:tensorflow:Found TPU system:\n"
          ]
        },
        {
          "output_type": "stream",
          "name": "stderr",
          "text": [
            "INFO:tensorflow:Found TPU system:\n"
          ]
        },
        {
          "output_type": "stream",
          "name": "stdout",
          "text": [
            "INFO:tensorflow:*** Num TPU Cores: 8\n"
          ]
        },
        {
          "output_type": "stream",
          "name": "stderr",
          "text": [
            "INFO:tensorflow:*** Num TPU Cores: 8\n"
          ]
        },
        {
          "output_type": "stream",
          "name": "stdout",
          "text": [
            "INFO:tensorflow:*** Num TPU Workers: 1\n"
          ]
        },
        {
          "output_type": "stream",
          "name": "stderr",
          "text": [
            "INFO:tensorflow:*** Num TPU Workers: 1\n"
          ]
        },
        {
          "output_type": "stream",
          "name": "stdout",
          "text": [
            "INFO:tensorflow:*** Num TPU Cores Per Worker: 8\n"
          ]
        },
        {
          "output_type": "stream",
          "name": "stderr",
          "text": [
            "INFO:tensorflow:*** Num TPU Cores Per Worker: 8\n"
          ]
        },
        {
          "output_type": "stream",
          "name": "stdout",
          "text": [
            "INFO:tensorflow:*** Available Device: _DeviceAttributes(/job:localhost/replica:0/task:0/device:CPU:0, CPU, 0, 0)\n"
          ]
        },
        {
          "output_type": "stream",
          "name": "stderr",
          "text": [
            "INFO:tensorflow:*** Available Device: _DeviceAttributes(/job:localhost/replica:0/task:0/device:CPU:0, CPU, 0, 0)\n"
          ]
        },
        {
          "output_type": "stream",
          "name": "stdout",
          "text": [
            "INFO:tensorflow:*** Available Device: _DeviceAttributes(/job:worker/replica:0/task:0/device:CPU:0, CPU, 0, 0)\n"
          ]
        },
        {
          "output_type": "stream",
          "name": "stderr",
          "text": [
            "INFO:tensorflow:*** Available Device: _DeviceAttributes(/job:worker/replica:0/task:0/device:CPU:0, CPU, 0, 0)\n"
          ]
        },
        {
          "output_type": "stream",
          "name": "stdout",
          "text": [
            "INFO:tensorflow:*** Available Device: _DeviceAttributes(/job:worker/replica:0/task:0/device:TPU:0, TPU, 0, 0)\n"
          ]
        },
        {
          "output_type": "stream",
          "name": "stderr",
          "text": [
            "INFO:tensorflow:*** Available Device: _DeviceAttributes(/job:worker/replica:0/task:0/device:TPU:0, TPU, 0, 0)\n"
          ]
        },
        {
          "output_type": "stream",
          "name": "stdout",
          "text": [
            "INFO:tensorflow:*** Available Device: _DeviceAttributes(/job:worker/replica:0/task:0/device:TPU:1, TPU, 0, 0)\n"
          ]
        },
        {
          "output_type": "stream",
          "name": "stderr",
          "text": [
            "INFO:tensorflow:*** Available Device: _DeviceAttributes(/job:worker/replica:0/task:0/device:TPU:1, TPU, 0, 0)\n"
          ]
        },
        {
          "output_type": "stream",
          "name": "stdout",
          "text": [
            "INFO:tensorflow:*** Available Device: _DeviceAttributes(/job:worker/replica:0/task:0/device:TPU:2, TPU, 0, 0)\n"
          ]
        },
        {
          "output_type": "stream",
          "name": "stderr",
          "text": [
            "INFO:tensorflow:*** Available Device: _DeviceAttributes(/job:worker/replica:0/task:0/device:TPU:2, TPU, 0, 0)\n"
          ]
        },
        {
          "output_type": "stream",
          "name": "stdout",
          "text": [
            "INFO:tensorflow:*** Available Device: _DeviceAttributes(/job:worker/replica:0/task:0/device:TPU:3, TPU, 0, 0)\n"
          ]
        },
        {
          "output_type": "stream",
          "name": "stderr",
          "text": [
            "INFO:tensorflow:*** Available Device: _DeviceAttributes(/job:worker/replica:0/task:0/device:TPU:3, TPU, 0, 0)\n"
          ]
        },
        {
          "output_type": "stream",
          "name": "stdout",
          "text": [
            "INFO:tensorflow:*** Available Device: _DeviceAttributes(/job:worker/replica:0/task:0/device:TPU:4, TPU, 0, 0)\n"
          ]
        },
        {
          "output_type": "stream",
          "name": "stderr",
          "text": [
            "INFO:tensorflow:*** Available Device: _DeviceAttributes(/job:worker/replica:0/task:0/device:TPU:4, TPU, 0, 0)\n"
          ]
        },
        {
          "output_type": "stream",
          "name": "stdout",
          "text": [
            "INFO:tensorflow:*** Available Device: _DeviceAttributes(/job:worker/replica:0/task:0/device:TPU:5, TPU, 0, 0)\n"
          ]
        },
        {
          "output_type": "stream",
          "name": "stderr",
          "text": [
            "INFO:tensorflow:*** Available Device: _DeviceAttributes(/job:worker/replica:0/task:0/device:TPU:5, TPU, 0, 0)\n"
          ]
        },
        {
          "output_type": "stream",
          "name": "stdout",
          "text": [
            "INFO:tensorflow:*** Available Device: _DeviceAttributes(/job:worker/replica:0/task:0/device:TPU:6, TPU, 0, 0)\n"
          ]
        },
        {
          "output_type": "stream",
          "name": "stderr",
          "text": [
            "INFO:tensorflow:*** Available Device: _DeviceAttributes(/job:worker/replica:0/task:0/device:TPU:6, TPU, 0, 0)\n"
          ]
        },
        {
          "output_type": "stream",
          "name": "stdout",
          "text": [
            "INFO:tensorflow:*** Available Device: _DeviceAttributes(/job:worker/replica:0/task:0/device:TPU:7, TPU, 0, 0)\n"
          ]
        },
        {
          "output_type": "stream",
          "name": "stderr",
          "text": [
            "INFO:tensorflow:*** Available Device: _DeviceAttributes(/job:worker/replica:0/task:0/device:TPU:7, TPU, 0, 0)\n"
          ]
        },
        {
          "output_type": "stream",
          "name": "stdout",
          "text": [
            "INFO:tensorflow:*** Available Device: _DeviceAttributes(/job:worker/replica:0/task:0/device:TPU_SYSTEM:0, TPU_SYSTEM, 0, 0)\n"
          ]
        },
        {
          "output_type": "stream",
          "name": "stderr",
          "text": [
            "INFO:tensorflow:*** Available Device: _DeviceAttributes(/job:worker/replica:0/task:0/device:TPU_SYSTEM:0, TPU_SYSTEM, 0, 0)\n"
          ]
        },
        {
          "output_type": "stream",
          "name": "stdout",
          "text": [
            "INFO:tensorflow:*** Available Device: _DeviceAttributes(/job:worker/replica:0/task:0/device:XLA_CPU:0, XLA_CPU, 0, 0)\n"
          ]
        },
        {
          "output_type": "stream",
          "name": "stderr",
          "text": [
            "INFO:tensorflow:*** Available Device: _DeviceAttributes(/job:worker/replica:0/task:0/device:XLA_CPU:0, XLA_CPU, 0, 0)\n"
          ]
        }
      ]
    },
    {
      "cell_type": "code",
      "source": [
        "from google.colab import drive\n",
        "drive.mount('/content/drive')"
      ],
      "metadata": {
        "colab": {
          "base_uri": "https://localhost:8080/"
        },
        "id": "COqFSzeLvnug",
        "outputId": "be28442f-4fd8-4e45-a366-564f9937ebbc"
      },
      "execution_count": null,
      "outputs": [
        {
          "output_type": "stream",
          "name": "stdout",
          "text": [
            "Mounted at /content/drive\n"
          ]
        }
      ]
    },
    {
      "cell_type": "markdown",
      "metadata": {
        "id": "NQ07N8FwELoB"
      },
      "source": [
        "#**Class for RAM model**"
      ]
    },
    {
      "cell_type": "code",
      "metadata": {
        "id": "z04MkOA7-e-1"
      },
      "source": [
        "import numpy as np\n",
        "import pandas as pd\n",
        "import os\n",
        "import json\n",
        "import tensorflow as tf\n",
        "from tensorflow.keras.models import Sequential\n",
        "from tensorflow.keras.layers import Dense, Flatten, Input, Dropout\n",
        "from tensorflow.keras.optimizers import Adam\n",
        "\n",
        "#Building agent with Keras-RL\n",
        "from rl.agents import DQNAgent\n",
        "from rl.memory import SequentialMemory\n",
        "from rl.policy import LinearAnnealedPolicy, EpsGreedyQPolicy, BoltzmannQPolicy\n",
        "from rl.callbacks import FileLogger, ModelIntervalCheckpoint, TrainEpisodeLogger\n",
        "\n",
        "# Params to set\n",
        "WINDOW_LENGTH = 3\n",
        "\n",
        "\n",
        "class ModelRAM:\n",
        "\n",
        "  def __init__(self, game, model_name):\n",
        "    self.game = '/content/drive/MyDrive/'+ game\n",
        "    self.env = gym.make(game)\n",
        "    self.ram = self.env.observation_space.shape\n",
        "    self.actions = self.env.action_space.n\n",
        "    self.train_steps = 0\n",
        "    self.name = model_name\n",
        "    if not(os.path.isdir(self.game)):       \n",
        "      os.mkdir(self.game)\n",
        "    if self.game == 'SpaceInvaders-v0-ram' or self.game == 'SpaceInvaders-v0':\n",
        "      self.TRAIN_INTERVAL = 3\n",
        "    else:\n",
        "      self.TRAIN_INTERVAL = 4\n",
        "    self.game += \"/\" + self.name\n",
        "    if not(os.path.isdir(self.game)):\n",
        "      os.mkdir(self.game)\n",
        "    if not(os.path.isdir(self.game + \"/logs\")):\n",
        "      os.mkdir(self.game + \"/logs\")\n",
        "    self.counter = 1\n",
        "  \n",
        "\n",
        "  def random_run(self, episodes=25):\n",
        "    #Random agent playing\n",
        "    episodes_list = [i for i in range(1 ,episodes+1)]\n",
        "    s = []\n",
        "    for episode in range(1, episodes+1):\n",
        "      state = self.env.reset()\n",
        "      done = False\n",
        "      score = 0\n",
        "      while not done:\n",
        "        action = random.randrange(self.actions)\n",
        "        n_state, reward, done, info = self.env.step(action)\n",
        "        score += reward\n",
        "      s.append(score)\n",
        "      print('Episode {} Score {}:'.format(episode, score))\n",
        "    self.env.close()\n",
        "\n",
        "    plt.plot(episodes_list, s, '--ro')\n",
        "    plt.title('Random Agent playing ' + str(episodes) + ' such games of ' \n",
        "              + self.game, fontsize=20);\n",
        "    plt.savefig(self.game + '/Random_Agent_' + str(episodes) + '.png')\n",
        "\n",
        "\n",
        "  def build_dnn(self):\n",
        "    #Building the Keras dense layer neural network model\n",
        "    input_shape = self.ram[0]\n",
        "    seq_model = Sequential()\n",
        "    seq_model.add(Flatten(input_shape=(WINDOW_LENGTH, self.ram[0])))\n",
        "    seq_model.add(Dense(256, activation='relu'))\n",
        "    seq_model.add(Dense(128, activation='relu'))\n",
        "    seq_model.add(Dropout(0.5))\n",
        "    seq_model.add(Dense(self.actions, activation='linear'))\n",
        "    print(seq_model.summary())\n",
        "\n",
        "    self.model = seq_model\n",
        "    self.model.save(self.game + '/model')\n",
        "    return seq_model\n",
        "\n",
        "  def build_agent(self, optimizer=Adam(learning_rate=1e-4), POLICY = 'EPSG'):\n",
        "    if POLICY == 'EPSG':\n",
        "      policy = LinearAnnealedPolicy(EpsGreedyQPolicy(), attr='eps', value_max=1., \n",
        "                                  value_min=.1, value_test=.2, nb_steps=1e3)\n",
        "    else:\n",
        "      policy = BoltzmannQPolicy()\n",
        "    \n",
        "    memory = SequentialMemory(limit=1000000, window_length=WINDOW_LENGTH)\n",
        "\n",
        "    dqn = DQNAgent(model=self.model, memory=memory, policy=policy,\n",
        "                  enable_dueling_network=True, dueling_type='avg', \n",
        "                   nb_actions=self.actions, nb_steps_warmup=1000, train_interval= self.TRAIN_INTERVAL)\n",
        "    dqn.compile(optimizer)\n",
        "\n",
        "    self.agent = dqn\n",
        "    return dqn\n",
        "\n",
        "\n",
        "  def train_agent(self, nb_steps=1e4):\n",
        "    self.train_steps += nb_steps\n",
        "    checkpoints = self.game + '/history/Train_agent_dqn_weights_{step}_' + str(self.train_steps) + '.h5f'\n",
        "    self.run_time()\n",
        "    logs = self.game + '/logs/log_' + str(self.counter)\n",
        "\n",
        "    callbacks = [ModelIntervalCheckpoint(checkpoints, interval=20000),\n",
        "                 FileLogger(logs, interval=100)]\n",
        "    self.train_history = self.agent.fit(self.env, nb_steps=nb_steps, \n",
        "                                        visualize=False, verbose=2, callbacks = callbacks)\n",
        "\n",
        "    f, (ax1, ax2, ax3) = plt.subplots(1, 3, figsize=(20, 5))\n",
        "    nb_of_episodes = [i for i in range(1, len(self.train_history.history['episode_reward'])+1)]\n",
        "    ax1.plot(nb_of_episodes, self.train_history.history['episode_reward'], '--g*')\n",
        "    ax1.grid()\n",
        "    ax1.set_title('The Training Rewards for each episode', fontsize = 18);\n",
        "    #ax1.set_xticks(nb_of_episodes)\n",
        "    #ax1.set_xticklabels(nb_of_episodes, rotation=45)\n",
        "    ax1.set_xlabel('Episodes', fontsize=18);\n",
        "    ax1.set_ylabel('Rewards', fontsize=18);\n",
        "\n",
        "    ax2.plot(nb_of_episodes, self.train_history.history['nb_episode_steps'], '--r*')\n",
        "    ax2.grid()\n",
        "    ax2.set_title('The number of steps for each episode', fontsize = 18);\n",
        "    #ax2.set_xticks(nb_of_episodes)\n",
        "    #ax2.set_xticklabels(nb_of_episodes, rotation=45)\n",
        "    ax2.set_xlabel('Episodes', fontsize=15);\n",
        "    ax2.set_ylabel('Count of steps', fontsize = 15);\n",
        "\n",
        "    mean_rewards = [i/j for i,j in zip(self.train_history.history['episode_reward'], self.train_history.history['nb_episode_steps'])]\n",
        "    #print(mean)\n",
        "    ax3.plot(nb_of_episodes,mean_rewards, '--b*')\n",
        "    ax3.grid()\n",
        "    ax3.set_title('Mean Reward per episode', fontsize = 18)\n",
        "    ax3.set_ylabel('Mean rewards', fontsize = 15)\n",
        "    ax3.set_xlabel('Episodes', fontsize = 15)\n",
        "    plt.show()\n",
        "    plt.savefig(self.game + '/Train_agent_' + str(self.train_steps) + '.png')\n",
        "    f.tight_layout()\n",
        "    plt.suptitle('The Agent Training', fontsize=25);  \n",
        "\n",
        "\n",
        "  def test_agent(self, nb_episodes=25):\n",
        "    scores = self.agent.test(self.env, nb_episodes=nb_episodes, visualize=False)\n",
        "    print(np.mean(scores.history['episode_reward']))\n",
        "\n",
        "    f, (ax1, ax2) = plt.subplots(1, 2, figsize=(20, 5))\n",
        "    nb_of_episodes = [i for i in range(1, len(scores.history['episode_reward'])+1)]\n",
        "    ax1.plot(nb_of_episodes, scores.history['episode_reward'], '--g*')\n",
        "    ax1.grid()\n",
        "    ax1.set_title('The Training Rewards for each episode', fontsize = 20);\n",
        "    ax1.set_xticks(nb_of_episodes)\n",
        "    ax1.set_xticklabels(nb_of_episodes, rotation=45)\n",
        "    ax1.set_xlabel('Episodes', fontsize=18);\n",
        "    ax1.set_ylabel('Rewards', fontsize=18);\n",
        "\n",
        "    ax2.plot(nb_of_episodes, scores.history['nb_steps'], '--r*')\n",
        "    ax2.grid()\n",
        "    ax2.set_title('The number of steps for each episode', fontsize = 18);\n",
        "    ax2.set_xticks(nb_of_episodes)\n",
        "    ax2.set_xticklabels(nb_of_episodes, rotation=45)\n",
        "    ax2.set_xlabel('Episodes', fontsize=15);\n",
        "    ax2.set_ylabel('Count of steps', fontsize = 15);\n",
        "    f.tight_layout()\n",
        "    plt.suptitle('The Agent Testing', fontsize=25);\n",
        "\n",
        "    plt.show()\n",
        "    plt.savefig(self.game + '/Test_agent_' + str(self.train_steps) + '_' \n",
        "                + str(nb_episodes) + '.png')\n",
        "  \n",
        "\n",
        "  def resume_training(self, optimizer=Adam(learning_rate=1e-4), POLICY = 'EPSG'):\n",
        "    try:\n",
        "      latest = tf.train.latest_checkpoint(self.game + \"/history\")\n",
        "    except:\n",
        "      pass\n",
        "    \n",
        "    if latest == None:\n",
        "      print(\"No saved data exists.\")\n",
        "      return\n",
        "    temp = latest.split(\"/\")[-1]\n",
        "\n",
        "    highest_steps = temp.split(\"_\")[4]\n",
        "    max_steps = temp.split(\"_\")[5].split(\".\")[0]\n",
        "    print(highest_steps)\n",
        "    self.model = tf.keras.models.load_model(self.game + '/model')\n",
        "    self.build_agent(optimizer, POLICY)\n",
        "    self.train_steps = int(highest_steps)\n",
        "    self.agent.load_weights(latest)\n",
        "    left_train_steps = int(max_steps) - int(highest_steps)\n",
        "    self.train_agent(left_train_steps)\n",
        "\n",
        "\n",
        "  def save_weights(self):\n",
        "    self.agent.save_weights(self.game + '/DNN_weights_' + str(self.train_steps) \n",
        "    + '.h5f')\n",
        "\n",
        "\n",
        "  def run_time(self):\n",
        "    files = os.listdir(self.game + '/logs')\n",
        "    current = 0\n",
        "    for file in files:\n",
        "      file = file.split(\"_\")\n",
        "      if len(file) == 2:\n",
        "        if file[0] == \"log\":\n",
        "          if int(file[1]) > current:\n",
        "            current = int(file[1])\n",
        "    self.counter = current + 1\n",
        "\n",
        "  def plot_loss_plots(self, data):\n",
        "    loss = json.loads(data)['loss']    \n",
        "    episode = json.loads(data)['episode']\n",
        "    plt.plot(episode, loss, 'b')\n",
        "    plt.title('Training loss of DQN', fontsize = 25);\n",
        "    plt.xlabel('Episode Number', fontsize = 15)\n",
        "    plt.ylabel('Loss', fontsize = 15)\n",
        "    plt.grid()\n",
        "    plt.savefig(self.game + '/loss_plot_'+ str(self.train_steps))\n",
        "    \n",
        "\n",
        "  def analyze_logs(self):\n",
        "    log_files = []\n",
        "    files = os.listdir(self.game + '/logs')\n",
        "    for file in files:\n",
        "      file = file.split(\"_\")\n",
        "      if len(file) == 2:\n",
        "        if file[0] == \"log\":\n",
        "          log_files.append(int(file[1]))\n",
        "    log_files = sorted(log_files)\n",
        "\n",
        "    for log_file in log_files:\n",
        "      with open(self.game + '/logs/log_' + str(log_file), 'r') as f:\n",
        "        data = f.readlines()[0]\n",
        "      self.plot_loss_plots(data)\n",
        "        \n",
        "        \n",
        "        "
      ],
      "execution_count": null,
      "outputs": []
    },
    {
      "cell_type": "code",
      "metadata": {
        "id": "zawggqB4_1dA"
      },
      "source": [
        "m = ModelRAM('Breakout-ram-v0', \"test5\")"
      ],
      "execution_count": null,
      "outputs": []
    },
    {
      "cell_type": "code",
      "metadata": {
        "colab": {
          "base_uri": "https://localhost:8080/",
          "height": 309
        },
        "id": "KTgb8gJSI4Db",
        "outputId": "ec88504d-dba3-4474-88fa-410d2e30dc8f"
      },
      "source": [
        "m.analyze_logs()"
      ],
      "execution_count": null,
      "outputs": [
        {
          "data": {
            "image/png": "[encoded data removed]",
            "text/plain": [
              "<Figure size 432x288 with 1 Axes>"
            ]
          },
          "metadata": {},
          "output_type": "display_data"
        }
      ]
    },
    {
      "cell_type": "code",
      "metadata": {
        "colab": {
          "base_uri": "https://localhost:8080/",
          "height": 481
        },
        "id": "W8mFrM0L0M95",
        "outputId": "5bf1d73a-a1e8-4c26-83a1-0ea12a486656"
      },
      "source": [
        "m.resume_training()"
      ],
      "execution_count": null,
      "outputs": [
        {
          "output_type": "stream",
          "name": "stdout",
          "text": [
            "WARNING:tensorflow:No training configuration found in save file, so the model was *not* compiled. Compile it manually.\n"
          ]
        },
        {
          "output_type": "stream",
          "name": "stderr",
          "text": [
            "WARNING:tensorflow:No training configuration found in save file, so the model was *not* compiled. Compile it manually.\n"
          ]
        },
        {
          "output_type": "stream",
          "name": "stdout",
          "text": [
            "Training for 6000 steps ...\n"
          ]
        },
        {
          "output_type": "stream",
          "name": "stderr",
          "text": [
            "/usr/local/lib/python3.7/dist-packages/keras/engine/training_v1.py:2079: UserWarning: `Model.state_updates` will be removed in a future version. This property should not be used in TensorFlow 2.0, as `updates` are applied automatically.\n",
            "  updates=self.state_updates,\n"
          ]
        },
        {
          "output_type": "stream",
          "name": "stdout",
          "text": [
            "  327/6000: episode: 1, duration: 1.718s, episode steps: 327, steps per second: 190, episode reward:  3.000, mean reward:  0.009 [ 0.000,  1.000], mean action: 1.318 [0.000, 3.000],  loss: --, mean_q: --, mean_eps: --\n",
            "  702/6000: episode: 2, duration: 1.078s, episode steps: 375, steps per second: 348, episode reward:  3.000, mean reward:  0.008 [ 0.000,  1.000], mean action: 1.349 [0.000, 3.000],  loss: --, mean_q: --, mean_eps: --\n"
          ]
        },
        {
          "output_type": "stream",
          "name": "stderr",
          "text": [
            "/usr/local/lib/python3.7/dist-packages/keras/engine/training_v1.py:2079: UserWarning: `Model.state_updates` will be removed in a future version. This property should not be used in TensorFlow 2.0, as `updates` are applied automatically.\n",
            "  updates=self.state_updates,\n"
          ]
        },
        {
          "output_type": "stream",
          "name": "stdout",
          "text": [
            " 1076/6000: episode: 3, duration: 6.717s, episode steps: 374, steps per second:  56, episode reward:  3.000, mean reward:  0.008 [ 0.000,  1.000], mean action: 0.807 [0.000, 3.000],  loss: 2641.910590, mean_q: 390.522754, mean_eps: 0.100000\n",
            " 1514/6000: episode: 4, duration: 2.976s, episode steps: 438, steps per second: 147, episode reward:  3.000, mean reward:  0.007 [ 0.000,  1.000], mean action: 1.256 [0.000, 3.000],  loss: 2901.644042, mean_q: 379.222990, mean_eps: 0.100000\n",
            " 1779/6000: episode: 5, duration: 1.860s, episode steps: 265, steps per second: 142, episode reward:  1.000, mean reward:  0.004 [ 0.000,  1.000], mean action: 1.302 [0.000, 3.000],  loss: 2847.294191, mean_q: 379.087031, mean_eps: 0.100000\n",
            " 2157/6000: episode: 6, duration: 3.477s, episode steps: 378, steps per second: 109, episode reward:  1.000, mean reward:  0.003 [ 0.000,  1.000], mean action: 1.291 [0.000, 3.000],  loss: 2745.351764, mean_q: 376.099425, mean_eps: 0.100000\n",
            "done, took 19.177 seconds\n"
          ]
        },
        {
          "output_type": "display_data",
          "data": {
            "image/png": "[encoded data removed]",
            "text/plain": [
              "<Figure size 1440x360 with 3 Axes>"
            ]
          },
          "metadata": {}
        },
        {
          "output_type": "display_data",
          "data": {
            "text/plain": [
              "<Figure size 432x288 with 0 Axes>"
            ]
          },
          "metadata": {}
        }
      ]
    },
    {
      "cell_type": "code",
      "metadata": {
        "id": "8cCThbXuEDHy"
      },
      "source": [
        "m.build_dnn()"
      ],
      "execution_count": null,
      "outputs": []
    },
    {
      "cell_type": "code",
      "metadata": {
        "id": "qYIvNa3NEDQa"
      },
      "source": [
        "m.build_agent()"
      ],
      "execution_count": null,
      "outputs": []
    },
    {
      "cell_type": "code",
      "metadata": {
        "colab": {
          "base_uri": "https://localhost:8080/",
          "height": 482
        },
        "id": "UpHRdvhOEDT8",
        "outputId": "7d8d4ab8-183e-4e05-8b63-1a000f8aa3c2"
      },
      "source": [
        "m.train_agent(10000)"
      ],
      "execution_count": null,
      "outputs": [
        {
          "output_type": "stream",
          "name": "stdout",
          "text": [
            "Training for 10000 steps ...\n"
          ]
        },
        {
          "output_type": "stream",
          "name": "stderr",
          "text": [
            "/usr/local/lib/python3.7/dist-packages/keras/engine/training_v1.py:2079: UserWarning: `Model.state_updates` will be removed in a future version. This property should not be used in TensorFlow 2.0, as `updates` are applied automatically.\n",
            "  updates=self.state_updates,\n"
          ]
        },
        {
          "output_type": "stream",
          "name": "stdout",
          "text": [
            "  304/10000: episode: 1, duration: 2.062s, episode steps: 304, steps per second: 147, episode reward:  2.000, mean reward:  0.007 [ 0.000,  1.000], mean action: 1.326 [0.000, 3.000],  loss: --, mean_q: --, mean_eps: --\n",
            "  586/10000: episode: 2, duration: 0.685s, episode steps: 282, steps per second: 412, episode reward:  2.000, mean reward:  0.007 [ 0.000,  1.000], mean action: 0.865 [0.000, 3.000],  loss: --, mean_q: --, mean_eps: --\n",
            "  789/10000: episode: 3, duration: 0.480s, episode steps: 203, steps per second: 423, episode reward:  0.000, mean reward:  0.000 [ 0.000,  0.000], mean action: 0.631 [0.000, 3.000],  loss: --, mean_q: --, mean_eps: --\n"
          ]
        },
        {
          "output_type": "stream",
          "name": "stderr",
          "text": [
            "/usr/local/lib/python3.7/dist-packages/keras/engine/training_v1.py:2079: UserWarning: `Model.state_updates` will be removed in a future version. This property should not be used in TensorFlow 2.0, as `updates` are applied automatically.\n",
            "  updates=self.state_updates,\n"
          ]
        },
        {
          "output_type": "stream",
          "name": "stdout",
          "text": [
            " 1092/10000: episode: 4, duration: 5.026s, episode steps: 303, steps per second:  60, episode reward:  2.000, mean reward:  0.007 [ 0.000,  1.000], mean action: 0.446 [0.000, 3.000],  loss: 19928.296919, mean_q: 485.839426, mean_eps: 0.100000\n",
            " 1340/10000: episode: 5, duration: 1.377s, episode steps: 248, steps per second: 180, episode reward:  2.000, mean reward:  0.008 [ 0.000,  1.000], mean action: 1.028 [0.000, 3.000],  loss: 6127.987907, mean_q: 427.254147, mean_eps: 0.100000\n",
            " 1868/10000: episode: 6, duration: 2.962s, episode steps: 528, steps per second: 178, episode reward:  3.000, mean reward:  0.006 [ 0.000,  1.000], mean action: 1.104 [0.000, 3.000],  loss: 3757.609573, mean_q: 398.323426, mean_eps: 0.100000\n",
            " 2200/10000: episode: 7, duration: 2.561s, episode steps: 332, steps per second: 130, episode reward:  2.000, mean reward:  0.006 [ 0.000,  1.000], mean action: 0.536 [0.000, 3.000],  loss: 3157.407418, mean_q: 394.583845, mean_eps: 0.100000\n",
            " 2513/10000: episode: 8, duration: 1.726s, episode steps: 313, steps per second: 181, episode reward:  3.000, mean reward:  0.010 [ 0.000,  1.000], mean action: 1.003 [0.000, 3.000],  loss: 3291.585085, mean_q: 392.351565, mean_eps: 0.100000\n",
            "done, took 17.256 seconds\n"
          ]
        },
        {
          "output_type": "display_data",
          "data": {
            "image/png": "[encoded data removed]",
            "text/plain": [
              "<Figure size 1440x360 with 3 Axes>"
            ]
          },
          "metadata": {}
        },
        {
          "output_type": "display_data",
          "data": {
            "text/plain": [
              "<Figure size 432x288 with 0 Axes>"
            ]
          },
          "metadata": {}
        }
      ]
    },
    {
      "cell_type": "code",
      "metadata": {
        "colab": {
          "base_uri": "https://localhost:8080/",
          "height": 356
        },
        "id": "y45ywnZDDaVb",
        "outputId": "746bd782-7983-4166-fb6b-22c722c1c6b5"
      },
      "source": [
        "m.test_agent(5)"
      ],
      "execution_count": null,
      "outputs": [
        {
          "name": "stdout",
          "output_type": "stream",
          "text": [
            "Testing for 5 episodes ...\n",
            "Episode 1: reward: 0.000, steps: 10000\n",
            "Episode 2: reward: 0.000, steps: 10000\n",
            "Episode 3: reward: 0.000, steps: 10000\n",
            "Episode 4: reward: 0.000, steps: 10000\n",
            "Episode 5: reward: 0.000, steps: 10000\n",
            "0.0\n"
          ]
        },
        {
          "data": {
            "image/png": "[encoded data removed]",
            "text/plain": [
              "<Figure size 1440x360 with 2 Axes>"
            ]
          },
          "metadata": {},
          "output_type": "display_data"
        },
        {
          "data": {
            "text/plain": [
              "<Figure size 432x288 with 0 Axes>"
            ]
          },
          "metadata": {},
          "output_type": "display_data"
        }
      ]
    },
    {
      "cell_type": "code",
      "metadata": {
        "id": "n3DeSP2pD9GY"
      },
      "source": [
        "m.save_weights()"
      ],
      "execution_count": null,
      "outputs": []
    },
    {
      "cell_type": "markdown",
      "metadata": {
        "id": "EXU1BTtG5L2Y"
      },
      "source": [
        "#**Class for CNN Model**"
      ]
    },
    {
      "cell_type": "code",
      "metadata": {
        "id": "F0cxJ7JP5T95"
      },
      "source": [
        "import numpy as np\n",
        "import pandas as pd\n",
        "import os\n",
        "from PIL import Image\n",
        "from tensorflow.keras.models import Sequential\n",
        "from tensorflow.keras.layers import Dense, Flatten, Input, Conv2D, Permute\n",
        "from tensorflow.keras.optimizers import Adam\n",
        "\n",
        "#Building agent with Keras-RL\n",
        "from rl.agents import DQNAgent\n",
        "from rl.memory import SequentialMemory\n",
        "from rl.policy import LinearAnnealedPolicy, EpsGreedyQPolicy\n",
        "from rl.processors import Processor\n",
        "\n",
        "# Params to set\n",
        "WINDOW_LENGTH = 3\n",
        "INPUT_SHAPE = (84, 84)\n",
        "\n",
        "\n",
        "class AtariProcessor(Processor):\n",
        "    def process_observation(self, observation):\n",
        "        assert observation.ndim == 3  # (height, width, channel)\n",
        "        img = Image.fromarray(observation)\n",
        "        img = img.resize(INPUT_SHAPE).convert('L')  # resize and convert to grayscale\n",
        "        processed_observation = np.array(img)\n",
        "        assert processed_observation.shape == INPUT_SHAPE\n",
        "        return processed_observation.astype('uint8')  # saves storage in experience memory\n",
        "\n",
        "    def process_state_batch(self, batch):\n",
        "        # We could perform this processing step in `process_observation`. In this case, however,\n",
        "        # we would need to store a `float32` array instead, which is 4x more memory intensive than\n",
        "        # an `uint8` array. This matters if we store 1M observations.\n",
        "        processed_batch = batch.astype('float32') / 255.\n",
        "        return processed_batch\n",
        "\n",
        "\n",
        "class ModelCNN(ModelRAM):\n",
        "\n",
        "  def __init__(self, game, model_name):\n",
        "    super().__init__(game, model_name)\n",
        "\n",
        "\n",
        "  def build_cnn(self):\n",
        "    #Building the Keras dense layer neural network model\n",
        "    input_shape = (WINDOW_LENGTH,) + INPUT_SHAPE\n",
        "\n",
        "    model_cnn = Sequential()\n",
        "    model_cnn.add(Permute((2, 3, 1), input_shape=input_shape))\n",
        "    model_cnn.add(Conv2D(32, (8,8), strides=(4, 4), activation='relu', input_shape=input_shape))\n",
        "    model_cnn.add(Conv2D(64, (4,4), strides=(2, 2), activation='relu'))\n",
        "    model_cnn.add(Conv2D(64, (3,3), strides=(1, 1), activation='relu'))\n",
        "    model_cnn.add(Flatten())\n",
        "    model_cnn.add(Dense(512, activation='relu'))\n",
        "    model_cnn.add(Dense(256, activation='relu'))\n",
        "    model_cnn.add(Dense(self.actions, activation='linear'))\n",
        "    model_cnn.summary()\n",
        "\n",
        "    self.model = model_cnn\n",
        "    self.model.save(self.game + '/model')\n",
        "    return model_cnn\n",
        "\n",
        "  def build_agent(self, optimizer=Adam(learning_rate=0.0001), POLICY='EPSG'):\n",
        "    if POLICY == 'EPSG':\n",
        "      policy = LinearAnnealedPolicy(EpsGreedyQPolicy(), attr='eps', value_max=1., \n",
        "                                  value_min=.1, value_test=.2, nb_steps=1e3)\n",
        "    else:\n",
        "      policy = BoltzmannQPolicy()\n",
        "\n",
        "    memory = SequentialMemory(limit=1000000, window_length=WINDOW_LENGTH)\n",
        "\n",
        "    processor = AtariProcessor()\n",
        "    \n",
        "    dqn = DQNAgent(model=self.model, processor=processor, memory=memory, \n",
        "                  policy=policy, enable_dueling_network=True, dueling_type='avg', \n",
        "                  nb_actions=self.actions, nb_steps_warmup=1000, \n",
        "                  gamma=.99, train_interval=4, delta_clip=1.)\n",
        "    dqn.compile(optimizer)\n",
        "\n",
        "    self.agent = dqn\n",
        "    return dqn"
      ],
      "execution_count": null,
      "outputs": []
    },
    {
      "cell_type": "code",
      "metadata": {
        "id": "3e6DzkoW5Y0W"
      },
      "source": [
        "m = ModelCNN('SpaceInvaders-v0', \"1M0.00001\")"
      ],
      "execution_count": null,
      "outputs": []
    },
    {
      "cell_type": "code",
      "metadata": {
        "colab": {
          "base_uri": "https://localhost:8080/"
        },
        "id": "Wb-x5fAI5YxE",
        "outputId": "5608adc2-1b78-4058-bcd0-f92a10987475"
      },
      "source": [
        "m.build_cnn()"
      ],
      "execution_count": null,
      "outputs": [
        {
          "output_type": "stream",
          "name": "stdout",
          "text": [
            "Model: \"sequential\"\n",
            "_________________________________________________________________\n",
            " Layer (type)                Output Shape              Param #   \n",
            "=================================================================\n",
            " permute (Permute)           (None, 84, 84, 3)         0         \n",
            "                                                                 \n",
            " conv2d (Conv2D)             (None, 20, 20, 32)        6176      \n",
            "                                                                 \n",
            " conv2d_1 (Conv2D)           (None, 9, 9, 64)          32832     \n",
            "                                                                 \n",
            " conv2d_2 (Conv2D)           (None, 7, 7, 64)          36928     \n",
            "                                                                 \n",
            " flatten (Flatten)           (None, 3136)              0         \n",
            "                                                                 \n",
            " dense_2 (Dense)             (None, 512)               1606144   \n",
            "                                                                 \n",
            " dense_3 (Dense)             (None, 256)               131328    \n",
            "                                                                 \n",
            " dense_4 (Dense)             (None, 6)                 1542      \n",
            "                                                                 \n",
            "=================================================================\n",
            "Total params: 1,814,950\n",
            "Trainable params: 1,814,950\n",
            "Non-trainable params: 0\n",
            "_________________________________________________________________\n",
            "INFO:tensorflow:Assets written to: /content/drive/MyDrive/SpaceInvaders-v0/1M0.00001/model/assets\n"
          ]
        },
        {
          "output_type": "stream",
          "name": "stderr",
          "text": [
            "INFO:tensorflow:Assets written to: /content/drive/MyDrive/SpaceInvaders-v0/1M0.00001/model/assets\n"
          ]
        },
        {
          "output_type": "execute_result",
          "data": {
            "text/plain": [
              "<keras.engine.sequential.Sequential at 0x7fbe46e26a10>"
            ]
          },
          "metadata": {},
          "execution_count": 13
        }
      ]
    },
    {
      "cell_type": "code",
      "metadata": {
        "colab": {
          "base_uri": "https://localhost:8080/"
        },
        "id": "HimV3htZ5YWo",
        "outputId": "3eeca131-df11-472b-b0e5-cb1f1ac0adf3"
      },
      "source": [
        "m.build_agent()"
      ],
      "execution_count": null,
      "outputs": [
        {
          "output_type": "execute_result",
          "data": {
            "text/plain": [
              "<rl.agents.dqn.DQNAgent at 0x7fbe46e26110>"
            ]
          },
          "metadata": {},
          "execution_count": 14
        }
      ]
    },
    {
      "cell_type": "code",
      "metadata": {
        "colab": {
          "base_uri": "https://localhost:8080/",
          "height": 288
        },
        "id": "uv2nsiJo5YTG",
        "outputId": "1e8a3a3a-5dac-407f-dc27-7c152b8df4de"
      },
      "source": [
        "m.train_agent(1000000)"
      ],
      "execution_count": null,
      "outputs": [
        {
          "output_type": "error",
          "ename": "AttributeError",
          "evalue": "ignored",
          "traceback": [
            "\u001b[0;31m---------------------------------------------------------------------------\u001b[0m",
            "\u001b[0;31mAttributeError\u001b[0m                            Traceback (most recent call last)",
            "\u001b[0;32m<ipython-input-9-363e6bc8d0d7>\u001b[0m in \u001b[0;36m<module>\u001b[0;34m()\u001b[0m\n\u001b[0;32m----> 1\u001b[0;31m \u001b[0mm\u001b[0m\u001b[0;34m.\u001b[0m\u001b[0mtrain_agent\u001b[0m\u001b[0;34m(\u001b[0m\u001b[0;36m1000000\u001b[0m\u001b[0;34m)\u001b[0m\u001b[0;34m\u001b[0m\u001b[0;34m\u001b[0m\u001b[0m\n\u001b[0m",
            "\u001b[0;32m<ipython-input-6-7d95b5fe842f>\u001b[0m in \u001b[0;36mtrain_agent\u001b[0;34m(self, nb_steps)\u001b[0m\n\u001b[1;32m    104\u001b[0m     callbacks = [ModelIntervalCheckpoint(checkpoints, interval=20000),\n\u001b[1;32m    105\u001b[0m                  FileLogger(logs, interval=100)]\n\u001b[0;32m--> 106\u001b[0;31m     self.train_history = self.agent.fit(self.env, nb_steps=nb_steps, \n\u001b[0m\u001b[1;32m    107\u001b[0m                                         visualize=False, verbose=2, callbacks = callbacks)\n\u001b[1;32m    108\u001b[0m \u001b[0;34m\u001b[0m\u001b[0m\n",
            "\u001b[0;31mAttributeError\u001b[0m: 'ModelCNN' object has no attribute 'agent'"
          ]
        }
      ]
    },
    {
      "cell_type": "code",
      "metadata": {
        "colab": {
          "base_uri": "https://localhost:8080/"
        },
        "id": "Q5a-g9CMFl7l",
        "outputId": "b3b9072d-6547-41ab-ed09-0a6879bd612b"
      },
      "source": [
        "m.resume_training()"
      ],
      "execution_count": null,
      "outputs": [
        {
          "output_type": "stream",
          "name": "stdout",
          "text": [
            "120000\n",
            "WARNING:tensorflow:No training configuration found in save file, so the model was *not* compiled. Compile it manually.\n"
          ]
        },
        {
          "output_type": "stream",
          "name": "stderr",
          "text": [
            "WARNING:tensorflow:No training configuration found in save file, so the model was *not* compiled. Compile it manually.\n"
          ]
        },
        {
          "output_type": "stream",
          "name": "stdout",
          "text": [
            "Training for 1880000 steps ...\n"
          ]
        },
        {
          "output_type": "stream",
          "name": "stderr",
          "text": [
            "/usr/local/lib/python3.7/dist-packages/keras/engine/training_v1.py:2079: UserWarning: `Model.state_updates` will be removed in a future version. This property should not be used in TensorFlow 2.0, as `updates` are applied automatically.\n",
            "  updates=self.state_updates,\n"
          ]
        },
        {
          "output_type": "stream",
          "name": "stdout",
          "text": [
            "     978/1880000: episode: 1, duration: 5.594s, episode steps: 978, steps per second: 175, episode reward: 280.000, mean reward:  0.286 [ 0.000, 30.000], mean action: 2.392 [0.000, 5.000],  loss: --, mean_q: --, mean_eps: --\n"
          ]
        },
        {
          "output_type": "stream",
          "name": "stderr",
          "text": [
            "/usr/local/lib/python3.7/dist-packages/keras/engine/training_v1.py:2079: UserWarning: `Model.state_updates` will be removed in a future version. This property should not be used in TensorFlow 2.0, as `updates` are applied automatically.\n",
            "  updates=self.state_updates,\n"
          ]
        },
        {
          "output_type": "stream",
          "name": "stdout",
          "text": [
            "    1925/1880000: episode: 2, duration: 36.913s, episode steps: 947, steps per second:  26, episode reward: 365.000, mean reward:  0.385 [ 0.000, 30.000], mean action: 2.440 [0.000, 5.000],  loss: 0.547802, mean_q: 15.378088, mean_eps: 0.100000\n",
            "    2856/1880000: episode: 3, duration: 35.885s, episode steps: 931, steps per second:  26, episode reward: 270.000, mean reward:  0.290 [ 0.000, 30.000], mean action: 2.516 [0.000, 5.000],  loss: 0.416440, mean_q: 14.522863, mean_eps: 0.100000\n",
            "    3858/1880000: episode: 4, duration: 38.633s, episode steps: 1002, steps per second:  26, episode reward: 295.000, mean reward:  0.294 [ 0.000, 30.000], mean action: 1.694 [0.000, 5.000],  loss: 0.410847, mean_q: 14.384269, mean_eps: 0.100000\n",
            "    5167/1880000: episode: 5, duration: 50.925s, episode steps: 1309, steps per second:  26, episode reward: 545.000, mean reward:  0.416 [ 0.000, 30.000], mean action: 2.037 [0.000, 5.000],  loss: 0.421754, mean_q: 14.010541, mean_eps: 0.100000\n",
            "    6071/1880000: episode: 6, duration: 35.063s, episode steps: 904, steps per second:  26, episode reward: 450.000, mean reward:  0.498 [ 0.000, 200.000], mean action: 2.362 [0.000, 5.000],  loss: 0.427086, mean_q: 13.324355, mean_eps: 0.100000\n",
            "    7107/1880000: episode: 7, duration: 40.225s, episode steps: 1036, steps per second:  26, episode reward: 455.000, mean reward:  0.439 [ 0.000, 30.000], mean action: 2.529 [0.000, 5.000],  loss: 0.515331, mean_q: 13.095499, mean_eps: 0.100000\n",
            "    7977/1880000: episode: 8, duration: 34.068s, episode steps: 870, steps per second:  26, episode reward: 310.000, mean reward:  0.356 [ 0.000, 30.000], mean action: 2.040 [0.000, 5.000],  loss: 0.458439, mean_q: 13.238897, mean_eps: 0.100000\n",
            "    8463/1880000: episode: 9, duration: 18.889s, episode steps: 486, steps per second:  26, episode reward: 185.000, mean reward:  0.381 [ 0.000, 30.000], mean action: 2.243 [0.000, 5.000],  loss: 0.413896, mean_q: 13.888809, mean_eps: 0.100000\n",
            "    9196/1880000: episode: 10, duration: 28.808s, episode steps: 733, steps per second:  25, episode reward: 210.000, mean reward:  0.286 [ 0.000, 30.000], mean action: 2.731 [0.000, 5.000],  loss: 0.375211, mean_q: 13.499770, mean_eps: 0.100000\n",
            "    9818/1880000: episode: 11, duration: 24.312s, episode steps: 622, steps per second:  26, episode reward: 130.000, mean reward:  0.209 [ 0.000, 30.000], mean action: 1.984 [0.000, 5.000],  loss: 0.388151, mean_q: 13.751821, mean_eps: 0.100000\n",
            "   10700/1880000: episode: 12, duration: 34.316s, episode steps: 882, steps per second:  26, episode reward: 245.000, mean reward:  0.278 [ 0.000, 30.000], mean action: 2.111 [0.000, 5.000],  loss: 0.442463, mean_q: 13.909016, mean_eps: 0.100000\n",
            "   11878/1880000: episode: 13, duration: 46.170s, episode steps: 1178, steps per second:  26, episode reward: 665.000, mean reward:  0.565 [ 0.000, 200.000], mean action: 2.308 [0.000, 5.000],  loss: 0.443919, mean_q: 14.065677, mean_eps: 0.100000\n",
            "   12502/1880000: episode: 14, duration: 24.375s, episode steps: 624, steps per second:  26, episode reward: 110.000, mean reward:  0.176 [ 0.000, 20.000], mean action: 2.638 [0.000, 5.000],  loss: 0.555001, mean_q: 13.970041, mean_eps: 0.100000\n",
            "   13250/1880000: episode: 15, duration: 28.952s, episode steps: 748, steps per second:  26, episode reward: 205.000, mean reward:  0.274 [ 0.000, 25.000], mean action: 2.023 [0.000, 5.000],  loss: 0.470679, mean_q: 13.946374, mean_eps: 0.100000\n",
            "   14140/1880000: episode: 16, duration: 34.664s, episode steps: 890, steps per second:  26, episode reward: 360.000, mean reward:  0.404 [ 0.000, 30.000], mean action: 1.787 [0.000, 5.000],  loss: 0.452980, mean_q: 14.162607, mean_eps: 0.100000\n",
            "   14777/1880000: episode: 17, duration: 25.292s, episode steps: 637, steps per second:  25, episode reward: 205.000, mean reward:  0.322 [ 0.000, 25.000], mean action: 1.727 [0.000, 5.000],  loss: 0.456335, mean_q: 13.833694, mean_eps: 0.100000\n",
            "   16076/1880000: episode: 18, duration: 50.481s, episode steps: 1299, steps per second:  26, episode reward: 560.000, mean reward:  0.431 [ 0.000, 200.000], mean action: 2.306 [0.000, 5.000],  loss: 0.409376, mean_q: 14.188009, mean_eps: 0.100000\n",
            "   16914/1880000: episode: 19, duration: 33.110s, episode steps: 838, steps per second:  25, episode reward: 245.000, mean reward:  0.292 [ 0.000, 30.000], mean action: 2.068 [0.000, 5.000],  loss: 0.415537, mean_q: 14.093398, mean_eps: 0.100000\n",
            "   17809/1880000: episode: 20, duration: 34.674s, episode steps: 895, steps per second:  26, episode reward: 385.000, mean reward:  0.430 [ 0.000, 30.000], mean action: 2.390 [0.000, 5.000],  loss: 0.430686, mean_q: 13.703334, mean_eps: 0.100000\n",
            "   19272/1880000: episode: 21, duration: 56.770s, episode steps: 1463, steps per second:  26, episode reward: 770.000, mean reward:  0.526 [ 0.000, 200.000], mean action: 1.919 [0.000, 5.000],  loss: 0.417894, mean_q: 13.669304, mean_eps: 0.100000\n",
            "   20406/1880000: episode: 22, duration: 45.040s, episode steps: 1134, steps per second:  25, episode reward: 295.000, mean reward:  0.260 [ 0.000, 30.000], mean action: 1.564 [0.000, 5.000],  loss: 0.415715, mean_q: 13.703017, mean_eps: 0.100000\n",
            "   21577/1880000: episode: 23, duration: 45.372s, episode steps: 1171, steps per second:  26, episode reward: 520.000, mean reward:  0.444 [ 0.000, 30.000], mean action: 2.419 [0.000, 5.000],  loss: 0.398346, mean_q: 13.613342, mean_eps: 0.100000\n",
            "   22204/1880000: episode: 24, duration: 24.433s, episode steps: 627, steps per second:  26, episode reward: 120.000, mean reward:  0.191 [ 0.000, 30.000], mean action: 2.105 [0.000, 5.000],  loss: 0.490279, mean_q: 13.750130, mean_eps: 0.100000\n",
            "   22767/1880000: episode: 25, duration: 22.059s, episode steps: 563, steps per second:  26, episode reward: 90.000, mean reward:  0.160 [ 0.000, 30.000], mean action: 2.686 [0.000, 5.000],  loss: 0.546833, mean_q: 13.961878, mean_eps: 0.100000\n",
            "   23857/1880000: episode: 26, duration: 42.327s, episode steps: 1090, steps per second:  26, episode reward: 445.000, mean reward:  0.408 [ 0.000, 30.000], mean action: 2.686 [0.000, 5.000],  loss: 0.399436, mean_q: 14.063614, mean_eps: 0.100000\n",
            "   25187/1880000: episode: 27, duration: 51.902s, episode steps: 1330, steps per second:  26, episode reward: 745.000, mean reward:  0.560 [ 0.000, 200.000], mean action: 1.959 [0.000, 5.000],  loss: 0.422132, mean_q: 14.001300, mean_eps: 0.100000\n",
            "   26280/1880000: episode: 28, duration: 42.515s, episode steps: 1093, steps per second:  26, episode reward: 415.000, mean reward:  0.380 [ 0.000, 30.000], mean action: 2.217 [0.000, 5.000],  loss: 0.493344, mean_q: 13.802703, mean_eps: 0.100000\n",
            "   27064/1880000: episode: 29, duration: 30.799s, episode steps: 784, steps per second:  25, episode reward: 295.000, mean reward:  0.376 [ 0.000, 25.000], mean action: 2.087 [0.000, 5.000],  loss: 0.444170, mean_q: 13.608104, mean_eps: 0.100000\n",
            "   28184/1880000: episode: 30, duration: 44.072s, episode steps: 1120, steps per second:  25, episode reward: 495.000, mean reward:  0.442 [ 0.000, 30.000], mean action: 2.813 [0.000, 5.000],  loss: 0.468841, mean_q: 13.605814, mean_eps: 0.100000\n",
            "   29072/1880000: episode: 31, duration: 34.972s, episode steps: 888, steps per second:  25, episode reward: 285.000, mean reward:  0.321 [ 0.000, 25.000], mean action: 2.412 [0.000, 5.000],  loss: 0.371920, mean_q: 13.502937, mean_eps: 0.100000\n",
            "   30226/1880000: episode: 32, duration: 44.844s, episode steps: 1154, steps per second:  26, episode reward: 465.000, mean reward:  0.403 [ 0.000, 30.000], mean action: 2.886 [0.000, 5.000],  loss: 0.424494, mean_q: 13.594615, mean_eps: 0.100000\n",
            "   30924/1880000: episode: 33, duration: 27.157s, episode steps: 698, steps per second:  26, episode reward: 200.000, mean reward:  0.287 [ 0.000, 30.000], mean action: 2.107 [0.000, 5.000],  loss: 0.469528, mean_q: 13.663600, mean_eps: 0.100000\n",
            "   31576/1880000: episode: 34, duration: 25.672s, episode steps: 652, steps per second:  25, episode reward: 155.000, mean reward:  0.238 [ 0.000, 30.000], mean action: 1.376 [0.000, 5.000],  loss: 0.395346, mean_q: 13.271174, mean_eps: 0.100000\n",
            "   32211/1880000: episode: 35, duration: 24.850s, episode steps: 635, steps per second:  26, episode reward: 115.000, mean reward:  0.181 [ 0.000, 30.000], mean action: 2.290 [0.000, 5.000],  loss: 0.418058, mean_q: 13.519874, mean_eps: 0.100000\n",
            "   32803/1880000: episode: 36, duration: 23.091s, episode steps: 592, steps per second:  26, episode reward: 195.000, mean reward:  0.329 [ 0.000, 30.000], mean action: 2.262 [0.000, 5.000],  loss: 0.495568, mean_q: 13.769702, mean_eps: 0.100000\n",
            "   33633/1880000: episode: 37, duration: 32.378s, episode steps: 830, steps per second:  26, episode reward: 200.000, mean reward:  0.241 [ 0.000, 25.000], mean action: 2.165 [0.000, 5.000],  loss: 0.393928, mean_q: 13.637990, mean_eps: 0.100000\n",
            "   34437/1880000: episode: 38, duration: 31.222s, episode steps: 804, steps per second:  26, episode reward: 515.000, mean reward:  0.641 [ 0.000, 200.000], mean action: 2.384 [0.000, 5.000],  loss: 0.460876, mean_q: 13.908485, mean_eps: 0.100000\n",
            "   35676/1880000: episode: 39, duration: 48.992s, episode steps: 1239, steps per second:  25, episode reward: 475.000, mean reward:  0.383 [ 0.000, 30.000], mean action: 2.422 [0.000, 5.000],  loss: 0.394922, mean_q: 13.935132, mean_eps: 0.100000\n",
            "   36810/1880000: episode: 40, duration: 44.059s, episode steps: 1134, steps per second:  26, episode reward: 520.000, mean reward:  0.459 [ 0.000, 30.000], mean action: 2.133 [0.000, 5.000],  loss: 0.416188, mean_q: 13.840674, mean_eps: 0.100000\n",
            "   37761/1880000: episode: 41, duration: 36.917s, episode steps: 951, steps per second:  26, episode reward: 250.000, mean reward:  0.263 [ 0.000, 20.000], mean action: 2.206 [0.000, 5.000],  loss: 0.412181, mean_q: 13.427257, mean_eps: 0.100000\n",
            "   38407/1880000: episode: 42, duration: 25.084s, episode steps: 646, steps per second:  26, episode reward: 120.000, mean reward:  0.186 [ 0.000, 20.000], mean action: 1.728 [0.000, 5.000],  loss: 0.416826, mean_q: 13.718123, mean_eps: 0.100000\n",
            "   39454/1880000: episode: 43, duration: 40.653s, episode steps: 1047, steps per second:  26, episode reward: 330.000, mean reward:  0.315 [ 0.000, 30.000], mean action: 2.204 [0.000, 5.000],  loss: 0.448357, mean_q: 13.720514, mean_eps: 0.100000\n",
            "   40646/1880000: episode: 44, duration: 46.665s, episode steps: 1192, steps per second:  26, episode reward: 450.000, mean reward:  0.378 [ 0.000, 30.000], mean action: 2.268 [0.000, 5.000],  loss: 0.459732, mean_q: 13.784825, mean_eps: 0.100000\n",
            "   41424/1880000: episode: 45, duration: 30.189s, episode steps: 778, steps per second:  26, episode reward: 250.000, mean reward:  0.321 [ 0.000, 30.000], mean action: 1.968 [0.000, 5.000],  loss: 0.443406, mean_q: 13.934782, mean_eps: 0.100000\n",
            "   42717/1880000: episode: 46, duration: 50.111s, episode steps: 1293, steps per second:  26, episode reward: 645.000, mean reward:  0.499 [ 0.000, 200.000], mean action: 1.657 [0.000, 5.000],  loss: 0.465144, mean_q: 13.977545, mean_eps: 0.100000\n",
            "   43670/1880000: episode: 47, duration: 36.835s, episode steps: 953, steps per second:  26, episode reward: 345.000, mean reward:  0.362 [ 0.000, 30.000], mean action: 2.613 [0.000, 5.000],  loss: 0.509057, mean_q: 13.689904, mean_eps: 0.100000\n",
            "   44683/1880000: episode: 48, duration: 38.994s, episode steps: 1013, steps per second:  26, episode reward: 340.000, mean reward:  0.336 [ 0.000, 30.000], mean action: 2.282 [0.000, 5.000],  loss: 0.405612, mean_q: 13.752729, mean_eps: 0.100000\n",
            "   45428/1880000: episode: 49, duration: 29.079s, episode steps: 745, steps per second:  26, episode reward: 160.000, mean reward:  0.215 [ 0.000, 20.000], mean action: 2.574 [0.000, 5.000],  loss: 0.442961, mean_q: 13.851391, mean_eps: 0.100000\n",
            "   46341/1880000: episode: 50, duration: 35.748s, episode steps: 913, steps per second:  26, episode reward: 295.000, mean reward:  0.323 [ 0.000, 30.000], mean action: 2.257 [0.000, 5.000],  loss: 0.471157, mean_q: 13.769128, mean_eps: 0.100000\n",
            "   47475/1880000: episode: 51, duration: 44.180s, episode steps: 1134, steps per second:  26, episode reward: 445.000, mean reward:  0.392 [ 0.000, 30.000], mean action: 2.791 [0.000, 5.000],  loss: 0.457970, mean_q: 13.894348, mean_eps: 0.100000\n",
            "   48555/1880000: episode: 52, duration: 42.117s, episode steps: 1080, steps per second:  26, episode reward: 435.000, mean reward:  0.403 [ 0.000, 30.000], mean action: 2.261 [0.000, 5.000],  loss: 0.451852, mean_q: 13.923242, mean_eps: 0.100000\n",
            "   49409/1880000: episode: 53, duration: 33.918s, episode steps: 854, steps per second:  25, episode reward: 250.000, mean reward:  0.293 [ 0.000, 30.000], mean action: 2.506 [0.000, 5.000],  loss: 0.399817, mean_q: 13.824413, mean_eps: 0.100000\n",
            "   50475/1880000: episode: 54, duration: 41.782s, episode steps: 1066, steps per second:  26, episode reward: 375.000, mean reward:  0.352 [ 0.000, 30.000], mean action: 2.021 [0.000, 5.000],  loss: 0.466359, mean_q: 13.933708, mean_eps: 0.100000\n",
            "   51016/1880000: episode: 55, duration: 21.138s, episode steps: 541, steps per second:  26, episode reward: 135.000, mean reward:  0.250 [ 0.000, 20.000], mean action: 1.906 [0.000, 5.000],  loss: 0.426208, mean_q: 13.750892, mean_eps: 0.100000\n",
            "   51984/1880000: episode: 56, duration: 38.276s, episode steps: 968, steps per second:  25, episode reward: 255.000, mean reward:  0.263 [ 0.000, 25.000], mean action: 1.794 [0.000, 5.000],  loss: 0.432130, mean_q: 14.003949, mean_eps: 0.100000\n",
            "   52947/1880000: episode: 57, duration: 38.261s, episode steps: 963, steps per second:  25, episode reward: 380.000, mean reward:  0.395 [ 0.000, 30.000], mean action: 1.995 [0.000, 5.000],  loss: 0.428564, mean_q: 13.851121, mean_eps: 0.100000\n",
            "   53699/1880000: episode: 58, duration: 29.983s, episode steps: 752, steps per second:  25, episode reward: 250.000, mean reward:  0.332 [ 0.000, 30.000], mean action: 2.434 [0.000, 5.000],  loss: 0.447299, mean_q: 13.892697, mean_eps: 0.100000\n",
            "   55085/1880000: episode: 59, duration: 54.843s, episode steps: 1386, steps per second:  25, episode reward: 430.000, mean reward:  0.310 [ 0.000, 30.000], mean action: 2.285 [0.000, 5.000],  loss: 0.501358, mean_q: 13.861134, mean_eps: 0.100000\n",
            "   55810/1880000: episode: 60, duration: 28.322s, episode steps: 725, steps per second:  26, episode reward: 240.000, mean reward:  0.331 [ 0.000, 30.000], mean action: 1.553 [0.000, 5.000],  loss: 0.484951, mean_q: 14.029864, mean_eps: 0.100000\n",
            "   56878/1880000: episode: 61, duration: 41.490s, episode steps: 1068, steps per second:  26, episode reward: 440.000, mean reward:  0.412 [ 0.000, 30.000], mean action: 2.176 [0.000, 5.000],  loss: 0.442811, mean_q: 14.023007, mean_eps: 0.100000\n",
            "   57649/1880000: episode: 62, duration: 30.497s, episode steps: 771, steps per second:  25, episode reward: 310.000, mean reward:  0.402 [ 0.000, 25.000], mean action: 2.205 [0.000, 5.000],  loss: 0.467459, mean_q: 13.855122, mean_eps: 0.100000\n",
            "   58650/1880000: episode: 63, duration: 40.363s, episode steps: 1001, steps per second:  25, episode reward: 375.000, mean reward:  0.375 [ 0.000, 30.000], mean action: 2.490 [0.000, 5.000],  loss: 0.426466, mean_q: 13.859696, mean_eps: 0.100000\n",
            "   59895/1880000: episode: 64, duration: 49.850s, episode steps: 1245, steps per second:  25, episode reward: 405.000, mean reward:  0.325 [ 0.000, 25.000], mean action: 2.415 [0.000, 5.000],  loss: 0.421732, mean_q: 13.530806, mean_eps: 0.100000\n",
            "   60735/1880000: episode: 65, duration: 34.037s, episode steps: 840, steps per second:  25, episode reward: 370.000, mean reward:  0.440 [ 0.000, 30.000], mean action: 2.254 [0.000, 5.000],  loss: 0.446509, mean_q: 13.884711, mean_eps: 0.100000\n",
            "   61444/1880000: episode: 66, duration: 29.404s, episode steps: 709, steps per second:  24, episode reward: 130.000, mean reward:  0.183 [ 0.000, 20.000], mean action: 1.994 [0.000, 5.000],  loss: 0.432229, mean_q: 13.970968, mean_eps: 0.100000\n",
            "   62124/1880000: episode: 67, duration: 27.770s, episode steps: 680, steps per second:  24, episode reward: 185.000, mean reward:  0.272 [ 0.000, 25.000], mean action: 2.256 [0.000, 5.000],  loss: 0.555681, mean_q: 13.568947, mean_eps: 0.100000\n",
            "   62640/1880000: episode: 68, duration: 21.496s, episode steps: 516, steps per second:  24, episode reward: 85.000, mean reward:  0.165 [ 0.000, 25.000], mean action: 1.696 [0.000, 5.000],  loss: 0.422000, mean_q: 13.872400, mean_eps: 0.100000\n",
            "   63262/1880000: episode: 69, duration: 25.659s, episode steps: 622, steps per second:  24, episode reward: 120.000, mean reward:  0.193 [ 0.000, 15.000], mean action: 2.222 [0.000, 5.000],  loss: 0.469393, mean_q: 14.113007, mean_eps: 0.100000\n",
            "   64215/1880000: episode: 70, duration: 38.719s, episode steps: 953, steps per second:  25, episode reward: 575.000, mean reward:  0.603 [ 0.000, 200.000], mean action: 2.355 [0.000, 5.000],  loss: 0.530811, mean_q: 14.091606, mean_eps: 0.100000\n",
            "   64944/1880000: episode: 71, duration: 29.966s, episode steps: 729, steps per second:  24, episode reward: 145.000, mean reward:  0.199 [ 0.000, 20.000], mean action: 2.129 [0.000, 5.000],  loss: 0.439813, mean_q: 13.790973, mean_eps: 0.100000\n",
            "   65773/1880000: episode: 72, duration: 34.092s, episode steps: 829, steps per second:  24, episode reward: 230.000, mean reward:  0.277 [ 0.000, 25.000], mean action: 2.069 [0.000, 5.000],  loss: 0.433172, mean_q: 14.073199, mean_eps: 0.100000\n",
            "   66552/1880000: episode: 73, duration: 31.448s, episode steps: 779, steps per second:  25, episode reward: 160.000, mean reward:  0.205 [ 0.000, 30.000], mean action: 1.579 [0.000, 5.000],  loss: 0.435191, mean_q: 14.108748, mean_eps: 0.100000\n",
            "   67252/1880000: episode: 74, duration: 27.952s, episode steps: 700, steps per second:  25, episode reward: 165.000, mean reward:  0.236 [ 0.000, 20.000], mean action: 2.510 [0.000, 5.000],  loss: 0.427042, mean_q: 14.007114, mean_eps: 0.100000\n",
            "   67825/1880000: episode: 75, duration: 23.078s, episode steps: 573, steps per second:  25, episode reward: 115.000, mean reward:  0.201 [ 0.000, 20.000], mean action: 2.955 [0.000, 5.000],  loss: 0.368754, mean_q: 13.948429, mean_eps: 0.100000\n",
            "   69758/1880000: episode: 76, duration: 76.995s, episode steps: 1933, steps per second:  25, episode reward: 665.000, mean reward:  0.344 [ 0.000, 30.000], mean action: 2.374 [0.000, 5.000],  loss: 0.416414, mean_q: 14.095677, mean_eps: 0.100000\n",
            "   70635/1880000: episode: 77, duration: 34.355s, episode steps: 877, steps per second:  26, episode reward: 290.000, mean reward:  0.331 [ 0.000, 30.000], mean action: 2.301 [0.000, 5.000],  loss: 0.444952, mean_q: 13.893813, mean_eps: 0.100000\n",
            "   71848/1880000: episode: 78, duration: 48.147s, episode steps: 1213, steps per second:  25, episode reward: 555.000, mean reward:  0.458 [ 0.000, 30.000], mean action: 3.059 [0.000, 5.000],  loss: 0.437419, mean_q: 13.739306, mean_eps: 0.100000\n",
            "   72346/1880000: episode: 79, duration: 20.068s, episode steps: 498, steps per second:  25, episode reward: 80.000, mean reward:  0.161 [ 0.000, 15.000], mean action: 2.821 [0.000, 5.000],  loss: 0.453303, mean_q: 13.862129, mean_eps: 0.100000\n",
            "   73446/1880000: episode: 80, duration: 43.795s, episode steps: 1100, steps per second:  25, episode reward: 695.000, mean reward:  0.632 [ 0.000, 200.000], mean action: 2.310 [0.000, 5.000],  loss: 0.453148, mean_q: 13.942477, mean_eps: 0.100000\n",
            "   74129/1880000: episode: 81, duration: 26.808s, episode steps: 683, steps per second:  25, episode reward: 215.000, mean reward:  0.315 [ 0.000, 30.000], mean action: 2.540 [0.000, 5.000],  loss: 0.478738, mean_q: 13.712510, mean_eps: 0.100000\n",
            "   75064/1880000: episode: 82, duration: 36.986s, episode steps: 935, steps per second:  25, episode reward: 390.000, mean reward:  0.417 [ 0.000, 30.000], mean action: 2.684 [0.000, 5.000],  loss: 0.425261, mean_q: 13.867741, mean_eps: 0.100000\n",
            "   76212/1880000: episode: 83, duration: 45.420s, episode steps: 1148, steps per second:  25, episode reward: 360.000, mean reward:  0.314 [ 0.000, 30.000], mean action: 2.702 [0.000, 5.000],  loss: 0.426463, mean_q: 13.901785, mean_eps: 0.100000\n",
            "   77082/1880000: episode: 84, duration: 34.709s, episode steps: 870, steps per second:  25, episode reward: 305.000, mean reward:  0.351 [ 0.000, 30.000], mean action: 1.967 [0.000, 5.000],  loss: 0.485866, mean_q: 13.879851, mean_eps: 0.100000\n",
            "   78226/1880000: episode: 85, duration: 46.010s, episode steps: 1144, steps per second:  25, episode reward: 410.000, mean reward:  0.358 [ 0.000, 30.000], mean action: 2.355 [0.000, 5.000],  loss: 0.432127, mean_q: 13.791860, mean_eps: 0.100000\n",
            "   78941/1880000: episode: 86, duration: 28.526s, episode steps: 715, steps per second:  25, episode reward: 230.000, mean reward:  0.322 [ 0.000, 30.000], mean action: 2.579 [0.000, 5.000],  loss: 0.443664, mean_q: 13.827709, mean_eps: 0.100000\n",
            "   79597/1880000: episode: 87, duration: 25.997s, episode steps: 656, steps per second:  25, episode reward: 90.000, mean reward:  0.137 [ 0.000, 20.000], mean action: 2.093 [0.000, 5.000],  loss: 0.521011, mean_q: 13.949969, mean_eps: 0.100000\n",
            "   80747/1880000: episode: 88, duration: 46.027s, episode steps: 1150, steps per second:  25, episode reward: 355.000, mean reward:  0.309 [ 0.000, 30.000], mean action: 2.026 [0.000, 5.000],  loss: 0.481424, mean_q: 14.025512, mean_eps: 0.100000\n",
            "   81942/1880000: episode: 89, duration: 47.095s, episode steps: 1195, steps per second:  25, episode reward: 525.000, mean reward:  0.439 [ 0.000, 30.000], mean action: 2.354 [0.000, 5.000],  loss: 0.469864, mean_q: 13.840048, mean_eps: 0.100000\n",
            "   83205/1880000: episode: 90, duration: 50.256s, episode steps: 1263, steps per second:  25, episode reward: 435.000, mean reward:  0.344 [ 0.000, 30.000], mean action: 2.610 [0.000, 5.000],  loss: 0.424501, mean_q: 13.905264, mean_eps: 0.100000\n",
            "   83813/1880000: episode: 91, duration: 24.315s, episode steps: 608, steps per second:  25, episode reward: 140.000, mean reward:  0.230 [ 0.000, 25.000], mean action: 2.278 [0.000, 5.000],  loss: 0.484259, mean_q: 13.752049, mean_eps: 0.100000\n",
            "   84550/1880000: episode: 92, duration: 28.950s, episode steps: 737, steps per second:  25, episode reward: 230.000, mean reward:  0.312 [ 0.000, 30.000], mean action: 2.261 [0.000, 5.000],  loss: 0.441999, mean_q: 13.810230, mean_eps: 0.100000\n",
            "   85178/1880000: episode: 93, duration: 24.717s, episode steps: 628, steps per second:  25, episode reward: 75.000, mean reward:  0.119 [ 0.000, 15.000], mean action: 2.291 [0.000, 5.000],  loss: 0.409769, mean_q: 13.586760, mean_eps: 0.100000\n",
            "   86049/1880000: episode: 94, duration: 34.332s, episode steps: 871, steps per second:  25, episode reward: 340.000, mean reward:  0.390 [ 0.000, 30.000], mean action: 2.930 [0.000, 5.000],  loss: 0.454637, mean_q: 13.879848, mean_eps: 0.100000\n",
            "   86607/1880000: episode: 95, duration: 21.978s, episode steps: 558, steps per second:  25, episode reward: 90.000, mean reward:  0.161 [ 0.000, 20.000], mean action: 2.457 [0.000, 5.000],  loss: 0.399208, mean_q: 14.172865, mean_eps: 0.100000\n",
            "   88109/1880000: episode: 96, duration: 60.298s, episode steps: 1502, steps per second:  25, episode reward: 525.000, mean reward:  0.350 [ 0.000, 30.000], mean action: 2.160 [0.000, 5.000],  loss: 0.403490, mean_q: 13.763979, mean_eps: 0.100000\n",
            "   89130/1880000: episode: 97, duration: 40.351s, episode steps: 1021, steps per second:  25, episode reward: 415.000, mean reward:  0.406 [ 0.000, 30.000], mean action: 2.211 [0.000, 5.000],  loss: 0.419644, mean_q: 13.905064, mean_eps: 0.100000\n",
            "   89761/1880000: episode: 98, duration: 24.826s, episode steps: 631, steps per second:  25, episode reward: 130.000, mean reward:  0.206 [ 0.000, 20.000], mean action: 2.453 [0.000, 5.000],  loss: 0.376362, mean_q: 13.367473, mean_eps: 0.100000\n",
            "   90440/1880000: episode: 99, duration: 26.560s, episode steps: 679, steps per second:  26, episode reward: 240.000, mean reward:  0.353 [ 0.000, 30.000], mean action: 2.196 [0.000, 5.000],  loss: 0.492962, mean_q: 13.689209, mean_eps: 0.100000\n",
            "   91723/1880000: episode: 100, duration: 50.270s, episode steps: 1283, steps per second:  26, episode reward: 425.000, mean reward:  0.331 [ 0.000, 30.000], mean action: 2.954 [0.000, 5.000],  loss: 0.382319, mean_q: 13.626145, mean_eps: 0.100000\n",
            "   93090/1880000: episode: 101, duration: 53.347s, episode steps: 1367, steps per second:  26, episode reward: 500.000, mean reward:  0.366 [ 0.000, 30.000], mean action: 2.407 [0.000, 5.000],  loss: 0.461080, mean_q: 13.732575, mean_eps: 0.100000\n",
            "   94231/1880000: episode: 102, duration: 44.386s, episode steps: 1141, steps per second:  26, episode reward: 655.000, mean reward:  0.574 [ 0.000, 200.000], mean action: 2.545 [0.000, 5.000],  loss: 0.435516, mean_q: 13.862395, mean_eps: 0.100000\n",
            "   95276/1880000: episode: 103, duration: 40.843s, episode steps: 1045, steps per second:  26, episode reward: 410.000, mean reward:  0.392 [ 0.000, 30.000], mean action: 2.349 [0.000, 5.000],  loss: 0.413979, mean_q: 13.766151, mean_eps: 0.100000\n",
            "   96123/1880000: episode: 104, duration: 33.649s, episode steps: 847, steps per second:  25, episode reward: 225.000, mean reward:  0.266 [ 0.000, 30.000], mean action: 2.566 [0.000, 5.000],  loss: 0.419336, mean_q: 13.460425, mean_eps: 0.100000\n",
            "   97088/1880000: episode: 105, duration: 38.016s, episode steps: 965, steps per second:  25, episode reward: 425.000, mean reward:  0.440 [ 0.000, 30.000], mean action: 2.613 [0.000, 5.000],  loss: 0.448104, mean_q: 13.684076, mean_eps: 0.100000\n",
            "   97789/1880000: episode: 106, duration: 27.561s, episode steps: 701, steps per second:  25, episode reward: 205.000, mean reward:  0.292 [ 0.000, 25.000], mean action: 2.402 [0.000, 5.000],  loss: 0.452300, mean_q: 13.665684, mean_eps: 0.100000\n",
            "   99221/1880000: episode: 107, duration: 55.983s, episode steps: 1432, steps per second:  26, episode reward: 485.000, mean reward:  0.339 [ 0.000, 30.000], mean action: 2.219 [0.000, 5.000],  loss: 0.440993, mean_q: 13.602235, mean_eps: 0.100000\n",
            "  100332/1880000: episode: 108, duration: 44.257s, episode steps: 1111, steps per second:  25, episode reward: 470.000, mean reward:  0.423 [ 0.000, 30.000], mean action: 2.751 [0.000, 5.000],  loss: 0.399565, mean_q: 13.544882, mean_eps: 0.100000\n",
            "  100875/1880000: episode: 109, duration: 21.328s, episode steps: 543, steps per second:  25, episode reward: 180.000, mean reward:  0.331 [ 0.000, 30.000], mean action: 2.413 [0.000, 5.000],  loss: 0.486853, mean_q: 13.657979, mean_eps: 0.100000\n",
            "  101573/1880000: episode: 110, duration: 27.568s, episode steps: 698, steps per second:  25, episode reward: 180.000, mean reward:  0.258 [ 0.000, 30.000], mean action: 2.552 [0.000, 5.000],  loss: 0.414138, mean_q: 13.514219, mean_eps: 0.100000\n",
            "  102476/1880000: episode: 111, duration: 35.548s, episode steps: 903, steps per second:  25, episode reward: 255.000, mean reward:  0.282 [ 0.000, 30.000], mean action: 2.151 [0.000, 5.000],  loss: 0.465909, mean_q: 13.762055, mean_eps: 0.100000\n",
            "  103352/1880000: episode: 112, duration: 35.046s, episode steps: 876, steps per second:  25, episode reward: 320.000, mean reward:  0.365 [ 0.000, 30.000], mean action: 2.352 [0.000, 5.000],  loss: 0.446578, mean_q: 13.624911, mean_eps: 0.100000\n",
            "  104398/1880000: episode: 113, duration: 41.242s, episode steps: 1046, steps per second:  25, episode reward: 310.000, mean reward:  0.296 [ 0.000, 30.000], mean action: 2.694 [0.000, 5.000],  loss: 0.468277, mean_q: 13.469403, mean_eps: 0.100000\n",
            "  105040/1880000: episode: 114, duration: 25.419s, episode steps: 642, steps per second:  25, episode reward: 180.000, mean reward:  0.280 [ 0.000, 30.000], mean action: 2.095 [0.000, 5.000],  loss: 0.365457, mean_q: 13.661851, mean_eps: 0.100000\n"
          ]
        }
      ]
    },
    {
      "cell_type": "code",
      "metadata": {
        "colab": {
          "base_uri": "https://localhost:8080/",
          "height": 356
        },
        "id": "4A40nzOW5YLV",
        "outputId": "03bcdc3b-197f-4eff-d47f-634829994949"
      },
      "source": [
        "m.test_agent(5)"
      ],
      "execution_count": null,
      "outputs": [
        {
          "name": "stdout",
          "output_type": "stream",
          "text": [
            "Testing for 5 episodes ...\n",
            "Episode 1: reward: 0.000, steps: 10000\n",
            "Episode 2: reward: 0.000, steps: 10000\n",
            "Episode 3: reward: 0.000, steps: 10000\n",
            "Episode 4: reward: 0.000, steps: 10000\n",
            "Episode 5: reward: 0.000, steps: 10000\n",
            "0.0\n"
          ]
        },
        {
          "data": {
            "image/png": "[encoded data removed]",
            "text/plain": [
              "<Figure size 1440x360 with 2 Axes>"
            ]
          },
          "metadata": {},
          "output_type": "display_data"
        },
        {
          "data": {
            "text/plain": [
              "<Figure size 432x288 with 0 Axes>"
            ]
          },
          "metadata": {},
          "output_type": "display_data"
        }
      ]
    },
    {
      "cell_type": "code",
      "metadata": {
        "id": "qXgtE5cG5Xxo"
      },
      "source": [
        "m.save_weights()"
      ],
      "execution_count": null,
      "outputs": []
    },
    {
      "cell_type": "markdown",
      "metadata": {
        "id": "P5kJy9QuEWJD"
      },
      "source": [
        "#**Working with the RAM version of the game**"
      ]
    },
    {
      "cell_type": "code",
      "metadata": {
        "id": "t92--BLP20cc"
      },
      "source": [
        "env = gym.make('Breakout-ram-v0')\n",
        "ram = env.observation_space.shape\n",
        "actions = env.action_space.n"
      ],
      "execution_count": null,
      "outputs": []
    },
    {
      "cell_type": "code",
      "metadata": {
        "colab": {
          "base_uri": "https://localhost:8080/"
        },
        "id": "7Te6I0hHCaqX",
        "outputId": "755ea8a5-2792-44a3-f71f-8aa4d6cc5e9d"
      },
      "source": [
        "actions ##Number of actions"
      ],
      "execution_count": null,
      "outputs": [
        {
          "data": {
            "text/plain": [
              "4"
            ]
          },
          "execution_count": 7,
          "metadata": {},
          "output_type": "execute_result"
        }
      ]
    },
    {
      "cell_type": "code",
      "metadata": {
        "colab": {
          "base_uri": "https://localhost:8080/"
        },
        "id": "cpah1vK4i1M1",
        "outputId": "f8afa0b2-5ec1-4b6b-b395-975cac73d60a"
      },
      "source": [
        "env.unwrapped.get_action_meanings()"
      ],
      "execution_count": null,
      "outputs": [
        {
          "data": {
            "text/plain": [
              "['NOOP', 'FIRE', 'RIGHT', 'LEFT']"
            ]
          },
          "execution_count": 8,
          "metadata": {},
          "output_type": "execute_result"
        }
      ]
    },
    {
      "cell_type": "code",
      "metadata": {
        "id": "V2IqxIU4jAwN"
      },
      "source": [
        "##Random agent playing\n",
        "episodes = 25\n",
        "episodes_list = [i for i in range(1,episodes+1)]\n",
        "s = []\n",
        "for episode in range(1,episodes+1):\n",
        "  state = env.reset()\n",
        "  done = False\n",
        "  score = 0\n",
        "  while not done:\n",
        "    action = random.choice([0,1,2,3])\n",
        "    n_state, reward, done, info = env.step(action)\n",
        "    score+=reward\n",
        "  s.append(score)\n",
        "  print('Episode {} Score {}:'.format(episode, score))\n",
        "env.close()\n",
        "\n",
        "plt.plot(episodes_list,s, '--ro')\n",
        "plt.title('Random Agent playing 100 such games of Breakout', fontsize = 20);\n",
        "plt.savefig('RandomAgent_playingBreakout_RAM.png')"
      ],
      "execution_count": null,
      "outputs": []
    },
    {
      "cell_type": "code",
      "metadata": {
        "id": "CA7IA6zz9fHQ"
      },
      "source": [
        "import numpy as np\n",
        "import pandas as pd\n",
        "from tensorflow.keras.models import Sequential\n",
        "from tensorflow.keras.layers import Dense, Flatten, Input\n",
        "from tensorflow.keras.optimizers import Adam"
      ],
      "execution_count": null,
      "outputs": []
    },
    {
      "cell_type": "code",
      "metadata": {
        "id": "r0zT6D03B4Lw"
      },
      "source": [
        "##Building the Keras dense layer neural network model\n",
        "#Architecture 1\n",
        "def neural_network_1(ram, actions):\n",
        "  input_shape = ram[0]\n",
        "  seq_model = Sequential()\n",
        "  seq_model.add(Flatten(input_shape=(1,ram[0])))\n",
        "  seq_model.add(Dense(256, activation='relu'))\n",
        "  seq_model.add(Dense(128, activation = 'relu'))\n",
        "  seq_model.add(Dense(actions, activation='linear'))\n",
        "  print(seq_model.summary())\n",
        "  return seq_model\n"
      ],
      "execution_count": null,
      "outputs": []
    },
    {
      "cell_type": "code",
      "metadata": {
        "colab": {
          "base_uri": "https://localhost:8080/"
        },
        "id": "BNdndDP4QTqy",
        "outputId": "e6c5b65e-625d-4695-9302-36ebd4964c27"
      },
      "source": [
        "model_nn_ram = neural_network_1(ram,actions)"
      ],
      "execution_count": null,
      "outputs": [
        {
          "name": "stdout",
          "output_type": "stream",
          "text": [
            "Model: \"sequential_1\"\n",
            "_________________________________________________________________\n",
            " Layer (type)                Output Shape              Param #   \n",
            "=================================================================\n",
            " flatten_1 (Flatten)         (None, 128)               0         \n",
            "                                                                 \n",
            " dense_5 (Dense)             (None, 256)               33024     \n",
            "                                                                 \n",
            " dense_6 (Dense)             (None, 128)               32896     \n",
            "                                                                 \n",
            " dense_7 (Dense)             (None, 4)                 516       \n",
            "                                                                 \n",
            "=================================================================\n",
            "Total params: 66,436\n",
            "Trainable params: 66,436\n",
            "Non-trainable params: 0\n",
            "_________________________________________________________________\n",
            "None\n"
          ]
        }
      ]
    },
    {
      "cell_type": "code",
      "metadata": {
        "id": "uJYV_7TIQlkU"
      },
      "source": [
        "##Building agent with Keras-RL\n",
        "from rl.agents import DQNAgent\n",
        "from rl.memory import SequentialMemory\n",
        "from rl.policy import LinearAnnealedPolicy, EpsGreedyQPolicy"
      ],
      "execution_count": null,
      "outputs": []
    },
    {
      "cell_type": "code",
      "metadata": {
        "id": "ROkrMhjQSjcW"
      },
      "source": [
        "def build_agent(m, actions):\n",
        "    policy = LinearAnnealedPolicy(EpsGreedyQPolicy(), attr='eps', value_max=1., value_min=.1, value_test=.2, nb_steps=1e3)\n",
        "    memory = SequentialMemory(limit=1000, window_length=1)\n",
        "    dqn = DQNAgent(model=m, memory=memory, policy=policy,\n",
        "                  enable_dueling_network=True, dueling_type='avg', \n",
        "                   nb_actions=actions, nb_steps_warmup=1000\n",
        "                  )\n",
        "    return dqn"
      ],
      "execution_count": null,
      "outputs": []
    },
    {
      "cell_type": "code",
      "metadata": {
        "colab": {
          "base_uri": "https://localhost:8080/"
        },
        "id": "3QgssXn2TGPe",
        "outputId": "071417b1-b236-4600-caf2-51127d922289"
      },
      "source": [
        "d = build_agent(model_nn_ram, actions)\n",
        "d.compile(Adam(lr=1e-4))"
      ],
      "execution_count": null,
      "outputs": [
        {
          "name": "stderr",
          "output_type": "stream",
          "text": [
            "/usr/local/lib/python3.7/dist-packages/keras/optimizer_v2/adam.py:105: UserWarning: The `lr` argument is deprecated, use `learning_rate` instead.\n",
            "  super(Adam, self).__init__(name, **kwargs)\n"
          ]
        }
      ]
    },
    {
      "cell_type": "code",
      "metadata": {
        "colab": {
          "base_uri": "https://localhost:8080/"
        },
        "id": "rIS1020MWqA7",
        "outputId": "f2e8da34-5fa3-465e-df36-fe46d88a9435"
      },
      "source": [
        "env"
      ],
      "execution_count": null,
      "outputs": [
        {
          "data": {
            "text/plain": [
              "<TimeLimit<AtariEnv<Breakout-ram-v0>>>"
            ]
          },
          "execution_count": 115,
          "metadata": {},
          "output_type": "execute_result"
        }
      ]
    },
    {
      "cell_type": "markdown",
      "metadata": {
        "id": "6hRM88E4kWAO"
      },
      "source": [
        "## **First experiment 10k steps for training**"
      ]
    },
    {
      "cell_type": "code",
      "metadata": {
        "id": "yxp0jsK4WKgm"
      },
      "source": [
        "train_history = d.fit(env, nb_steps=1e4, visualize=False, verbose=2)"
      ],
      "execution_count": null,
      "outputs": []
    },
    {
      "cell_type": "code",
      "metadata": {
        "id": "V8DhHgVeakeZ"
      },
      "source": [
        "##For 10k steps\n",
        "scores = d.test(env, nb_episodes=100, visualize=False)\n",
        "print(np.mean(scores.history['episode_reward']))\n",
        "d.save_weights('dqn_weights_10k_ram_temp.h5f')"
      ],
      "execution_count": null,
      "outputs": []
    },
    {
      "cell_type": "code",
      "metadata": {
        "colab": {
          "base_uri": "https://localhost:8080/"
        },
        "id": "4tzcSsoFdyVj",
        "outputId": "1940e17d-23b9-420d-fd08-c758b26b945a"
      },
      "source": [
        "model_nn_ram.metrics_names"
      ],
      "execution_count": null,
      "outputs": [
        {
          "data": {
            "text/plain": [
              "['loss']"
            ]
          },
          "execution_count": 28,
          "metadata": {},
          "output_type": "execute_result"
        }
      ]
    },
    {
      "cell_type": "code",
      "metadata": {
        "colab": {
          "base_uri": "https://localhost:8080/"
        },
        "id": "g9vL-1tZdzHZ",
        "outputId": "0edb5202-8fb8-458b-88ec-552ba89d2b40"
      },
      "source": [
        "train_history.history.keys()"
      ],
      "execution_count": null,
      "outputs": [
        {
          "data": {
            "text/plain": [
              "dict_keys(['episode_reward', 'nb_episode_steps', 'nb_steps'])"
            ]
          },
          "execution_count": 29,
          "metadata": {},
          "output_type": "execute_result"
        }
      ]
    },
    {
      "cell_type": "code",
      "metadata": {
        "colab": {
          "base_uri": "https://localhost:8080/"
        },
        "id": "P49oKLfyqEyE",
        "outputId": "d958e111-a7c6-4a94-e622-ff4995627350"
      },
      "source": [
        "len(train_history.history['episode_reward'])"
      ],
      "execution_count": null,
      "outputs": [
        {
          "data": {
            "text/plain": [
              "37"
            ]
          },
          "execution_count": 30,
          "metadata": {},
          "output_type": "execute_result"
        }
      ]
    },
    {
      "cell_type": "code",
      "metadata": {
        "id": "DCpmH1wFqh9u"
      },
      "source": [
        "#testing based plots\n",
        "#loss plots\n",
        "#number of steps per episode for both train and test"
      ],
      "execution_count": null,
      "outputs": []
    },
    {
      "cell_type": "code",
      "metadata": {
        "colab": {
          "base_uri": "https://localhost:8080/",
          "height": 311
        },
        "id": "I1at31fEZeEW",
        "outputId": "bbe0c03a-cd60-4c86-9cc9-2435a88b5e32"
      },
      "source": [
        "##Training\n",
        "nb_of_episodes = [i for i in range(1,len(train_history.history['episode_reward'])+1)]\n",
        "plt.plot(nb_of_episodes,train_history.history['episode_reward'], '--g*')\n",
        "plt.grid()\n",
        "plt.title('The Training Rewards for each episode', fontsize = 20);\n",
        "plt.xticks(nb_of_episodes, rotation = 90)\n",
        "plt.xlabel('Episodes', fontsize = 18);\n",
        "plt.ylabel('Rewards', fontsize = 18);\n"
      ],
      "execution_count": null,
      "outputs": [
        {
          "data": {
            "image/png": "[encoded data removed]",
            "text/plain": [
              "<Figure size 432x288 with 1 Axes>"
            ]
          },
          "metadata": {},
          "output_type": "display_data"
        }
      ]
    },
    {
      "cell_type": "markdown",
      "metadata": {
        "id": "99xOnw_lk7Ag"
      },
      "source": [
        "## **Training for 100k steps**"
      ]
    },
    {
      "cell_type": "code",
      "metadata": {
        "id": "OC4OKpR1lkDe"
      },
      "source": [
        "train_history_1 = DQN.fit(env, nb_steps=1e5, visualize=False, verbose=2)"
      ],
      "execution_count": null,
      "outputs": []
    },
    {
      "cell_type": "code",
      "metadata": {
        "colab": {
          "base_uri": "https://localhost:8080/"
        },
        "id": "WYwLj_g2pfLf",
        "outputId": "5eda9faf-b138-498a-f2f0-7f14dcdf6fbc"
      },
      "source": [
        "##For 100k steps\n",
        "scores_1 = DQN.test(env, nb_episodes=10, visualize=False)\n",
        "print(np.mean(scores_1.history['episode_reward']))\n",
        "DQN.save_weights('dqn_weights_100k_ram.h5f')"
      ],
      "execution_count": null,
      "outputs": [
        {
          "name": "stdout",
          "output_type": "stream",
          "text": [
            "Testing for 10 episodes ...\n",
            "Episode 1: reward: 2.000, steps: 10000\n",
            "Episode 2: reward: 2.000, steps: 10000\n",
            "Episode 3: reward: 2.000, steps: 10000\n",
            "Episode 4: reward: 2.000, steps: 10000\n",
            "Episode 5: reward: 2.000, steps: 10000\n",
            "Episode 6: reward: 2.000, steps: 10000\n",
            "Episode 7: reward: 0.000, steps: 10000\n",
            "Episode 8: reward: 0.000, steps: 10000\n",
            "Episode 9: reward: 0.000, steps: 10000\n",
            "Episode 10: reward: 2.000, steps: 10000\n",
            "1.4\n"
          ]
        }
      ]
    },
    {
      "cell_type": "markdown",
      "metadata": {
        "id": "B5hH_tG4qZm3"
      },
      "source": [
        "# **Working with the input version as state images**"
      ]
    },
    {
      "cell_type": "code",
      "metadata": {
        "id": "ainKXRETqweb"
      },
      "source": [
        ""
      ],
      "execution_count": null,
      "outputs": []
    },
    {
      "cell_type": "code",
      "metadata": {
        "id": "k9thAr6yFIEB"
      },
      "source": [
        "!apt install xvfb -y\n",
        "!pip install pyvirtualdisplay\n",
        "!pip install piglet\n",
        "\n",
        "from pyvirtualdisplay import Display\n",
        "display = Display(visible=0, size=(1400, 900))\n",
        "display.start()"
      ],
      "execution_count": null,
      "outputs": []
    },
    {
      "cell_type": "code",
      "metadata": {
        "colab": {
          "base_uri": "https://localhost:8080/"
        },
        "id": "TlCcxvNW6Znd",
        "outputId": "76a94750-89ea-4054-ab56-35cbebb2fab6"
      },
      "source": [
        "env_full = gym.make('Breakout-v0')\n",
        "height, width, channels = env_full.observation_space.shape\n",
        "actions = env_full.action_space.n\n",
        "episodes = 5\n",
        "for episode in range(1, episodes+1):\n",
        "    state = env_full.reset()\n",
        "    done = False\n",
        "    score = 0     \n",
        "    while not done:\n",
        "        #env_full.render()\n",
        "        action = random.choice([0,1,2,3])\n",
        "        n_state, reward, done, info = env_full.step(action)\n",
        "        score+=reward\n",
        "    print('Episode:{} Score:{}'.format(episode, score))\n",
        "env_full.close()"
      ],
      "execution_count": null,
      "outputs": [
        {
          "name": "stdout",
          "output_type": "stream",
          "text": [
            "Episode:1 Score:2.0\n",
            "Episode:2 Score:2.0\n",
            "Episode:3 Score:1.0\n",
            "Episode:4 Score:0.0\n",
            "Episode:5 Score:0.0\n"
          ]
        }
      ]
    },
    {
      "cell_type": "code",
      "metadata": {
        "id": "CrThfIFufrWX"
      },
      "source": [
        "import numpy as np\n",
        "from tensorflow.keras.models import Sequential\n",
        "from tensorflow.keras.layers import Dense, Flatten, Convolution2D\n",
        "from tensorflow.keras.optimizers import Adam"
      ],
      "execution_count": null,
      "outputs": []
    },
    {
      "cell_type": "code",
      "metadata": {
        "id": "y6iIfN_9fxni"
      },
      "source": [
        "def build_model_1(height, width, channels, actions):\n",
        "    model_cnn = Sequential()\n",
        "    model_cnn.add(Convolution2D(32, (8,8), strides=(4,4), activation='relu', input_shape=(3,height, width, channels)))\n",
        "    model_cnn.add(Convolution2D(64, (4,4), strides=(2,2), activation='relu'))\n",
        "    model_cnn.add(Convolution2D(64, (3,3), activation='relu'))\n",
        "    model_cnn.add(Flatten())\n",
        "    model_cnn.add(Dense(512, activation='relu'))\n",
        "    model_cnn.add(Dense(256, activation='relu'))\n",
        "    model_cnn.add(Dense(actions, activation='linear'))\n",
        "    model_cnn.summary()\n",
        "    return model_cnn"
      ],
      "execution_count": null,
      "outputs": []
    },
    {
      "cell_type": "code",
      "metadata": {
        "colab": {
          "base_uri": "https://localhost:8080/"
        },
        "id": "yxIZk5YFf2uC",
        "outputId": "f80a30a6-8728-4380-9286-18ade05751d3"
      },
      "source": [
        "model_A_cnn = build_model_1(height, width, channels, actions)\n"
      ],
      "execution_count": null,
      "outputs": [
        {
          "name": "stdout",
          "output_type": "stream",
          "text": [
            "Model: \"sequential_2\"\n",
            "_________________________________________________________________\n",
            " Layer (type)                Output Shape              Param #   \n",
            "=================================================================\n",
            " conv2d (Conv2D)             (None, 3, 51, 39, 32)     6176      \n",
            "                                                                 \n",
            " conv2d_1 (Conv2D)           (None, 3, 24, 18, 64)     32832     \n",
            "                                                                 \n",
            " conv2d_2 (Conv2D)           (None, 3, 22, 16, 64)     36928     \n",
            "                                                                 \n",
            " flatten_2 (Flatten)         (None, 67584)             0         \n",
            "                                                                 \n",
            " dense_9 (Dense)             (None, 512)               34603520  \n",
            "                                                                 \n",
            " dense_10 (Dense)            (None, 256)               131328    \n",
            "                                                                 \n",
            " dense_11 (Dense)            (None, 4)                 1028      \n",
            "                                                                 \n",
            "=================================================================\n",
            "Total params: 34,811,812\n",
            "Trainable params: 34,811,812\n",
            "Non-trainable params: 0\n",
            "_________________________________________________________________\n"
          ]
        }
      ]
    },
    {
      "cell_type": "code",
      "metadata": {
        "id": "f0K27PUOgAbs"
      },
      "source": [
        "from rl.agents import DQNAgent\n",
        "from rl.memory import SequentialMemory\n",
        "from rl.policy import LinearAnnealedPolicy, EpsGreedyQPolicy"
      ],
      "execution_count": null,
      "outputs": []
    },
    {
      "cell_type": "code",
      "metadata": {
        "id": "bWbZUvThgFEK"
      },
      "source": [
        "def build_agent(m, actions):\n",
        "    policy = LinearAnnealedPolicy(EpsGreedyQPolicy(), attr='eps', value_max=1., value_min=.1, value_test=.2, nb_steps=10000)\n",
        "    memory = SequentialMemory(limit=1000, window_length=3)\n",
        "    dqn = DQNAgent(model=m, memory=memory, policy=policy,\n",
        "                  enable_dueling_network=True, dueling_type='avg', \n",
        "                   nb_actions=actions, nb_steps_warmup=1000\n",
        "                  )\n",
        "    return dqn"
      ],
      "execution_count": null,
      "outputs": []
    },
    {
      "cell_type": "code",
      "metadata": {
        "colab": {
          "base_uri": "https://localhost:8080/"
        },
        "id": "perS95L-gIZL",
        "outputId": "0641df3d-2025-4167-8b9b-136ce26f6800"
      },
      "source": [
        "DQN = build_agent(model_A_cnn, actions)\n",
        "DQN.compile(Adam(lr=1e-4))\n",
        "DQN.fit(env_full, nb_steps=10000, visualize=False, verbose=2)"
      ],
      "execution_count": null,
      "outputs": [
        {
          "name": "stderr",
          "output_type": "stream",
          "text": [
            "/usr/local/lib/python3.7/dist-packages/keras/optimizer_v2/adam.py:105: UserWarning: The `lr` argument is deprecated, use `learning_rate` instead.\n",
            "  super(Adam, self).__init__(name, **kwargs)\n"
          ]
        },
        {
          "name": "stdout",
          "output_type": "stream",
          "text": [
            "Training for 10000 steps ...\n"
          ]
        },
        {
          "name": "stderr",
          "output_type": "stream",
          "text": [
            "/usr/local/lib/python3.7/dist-packages/keras/engine/training_v1.py:2079: UserWarning: `Model.state_updates` will be removed in a future version. This property should not be used in TensorFlow 2.0, as `updates` are applied automatically.\n",
            "  updates=self.state_updates,\n"
          ]
        },
        {
          "name": "stdout",
          "output_type": "stream",
          "text": [
            "  271/10000: episode: 1, duration: 9.996s, episode steps: 271, steps per second:  27, episode reward:  2.000, mean reward:  0.007 [ 0.000,  1.000], mean action: 1.524 [0.000, 3.000],  loss: --, mean_q: --, mean_eps: --\n",
            "  437/10000: episode: 2, duration: 5.877s, episode steps: 166, steps per second:  28, episode reward:  0.000, mean reward:  0.000 [ 0.000,  0.000], mean action: 1.627 [0.000, 3.000],  loss: --, mean_q: --, mean_eps: --\n",
            "  728/10000: episode: 3, duration: 10.085s, episode steps: 291, steps per second:  29, episode reward:  2.000, mean reward:  0.007 [ 0.000,  1.000], mean action: 1.533 [0.000, 3.000],  loss: --, mean_q: --, mean_eps: --\n",
            "  903/10000: episode: 4, duration: 5.916s, episode steps: 175, steps per second:  30, episode reward:  0.000, mean reward:  0.000 [ 0.000,  0.000], mean action: 1.554 [0.000, 3.000],  loss: --, mean_q: --, mean_eps: --\n"
          ]
        },
        {
          "name": "stderr",
          "output_type": "stream",
          "text": [
            "/usr/local/lib/python3.7/dist-packages/keras/engine/training_v1.py:2079: UserWarning: `Model.state_updates` will be removed in a future version. This property should not be used in TensorFlow 2.0, as `updates` are applied automatically.\n",
            "  updates=self.state_updates,\n"
          ]
        },
        {
          "name": "stdout",
          "output_type": "stream",
          "text": [
            " 1088/10000: episode: 5, duration: 167.997s, episode steps: 185, steps per second:   1, episode reward:  0.000, mean reward:  0.000 [ 0.000,  0.000], mean action: 1.562 [0.000, 3.000],  loss: 155.990677, mean_q: 4.164666, mean_eps: 0.906040\n",
            " 1370/10000: episode: 6, duration: 512.268s, episode steps: 282, steps per second:   1, episode reward:  2.000, mean reward:  0.007 [ 0.000,  1.000], mean action: 1.496 [0.000, 3.000],  loss: 0.183120, mean_q: -0.236216, mean_eps: 0.889435\n",
            " 1547/10000: episode: 7, duration: 324.170s, episode steps: 177, steps per second:   1, episode reward:  0.000, mean reward:  0.000 [ 0.000,  0.000], mean action: 1.497 [0.000, 3.000],  loss: 0.136707, mean_q: -0.137330, mean_eps: 0.868780\n",
            " 1966/10000: episode: 8, duration: 762.548s, episode steps: 419, steps per second:   1, episode reward:  5.000, mean reward:  0.012 [ 0.000,  1.000], mean action: 1.425 [0.000, 3.000],  loss: 0.162845, mean_q: -0.111124, mean_eps: 0.841960\n",
            " 2156/10000: episode: 9, duration: 345.869s, episode steps: 190, steps per second:   1, episode reward:  0.000, mean reward:  0.000 [ 0.000,  0.000], mean action: 1.405 [0.000, 3.000],  loss: 0.134621, mean_q: 0.164899, mean_eps: 0.814555\n",
            " 2338/10000: episode: 10, duration: 330.559s, episode steps: 182, steps per second:   1, episode reward:  0.000, mean reward:  0.000 [ 0.000,  0.000], mean action: 1.401 [0.000, 3.000],  loss: 0.079287, mean_q: 0.028499, mean_eps: 0.797815\n",
            " 2561/10000: episode: 11, duration: 405.605s, episode steps: 223, steps per second:   1, episode reward:  1.000, mean reward:  0.004 [ 0.000,  1.000], mean action: 1.466 [0.000, 3.000],  loss: 0.090262, mean_q: 0.017289, mean_eps: 0.779590\n",
            " 2901/10000: episode: 12, duration: 615.260s, episode steps: 340, steps per second:   1, episode reward:  3.000, mean reward:  0.009 [ 0.000,  1.000], mean action: 1.382 [0.000, 3.000],  loss: 0.213221, mean_q: 0.154101, mean_eps: 0.754255\n",
            " 3217/10000: episode: 13, duration: 570.661s, episode steps: 316, steps per second:   1, episode reward:  2.000, mean reward:  0.006 [ 0.000,  1.000], mean action: 1.472 [0.000, 3.000],  loss: 0.449819, mean_q: 0.030656, mean_eps: 0.724735\n",
            " 3490/10000: episode: 14, duration: 496.135s, episode steps: 273, steps per second:   1, episode reward:  2.000, mean reward:  0.007 [ 0.000,  1.000], mean action: 1.582 [0.000, 3.000],  loss: 0.039446, mean_q: -0.253391, mean_eps: 0.698230\n",
            " 3840/10000: episode: 15, duration: 633.965s, episode steps: 350, steps per second:   1, episode reward:  3.000, mean reward:  0.009 [ 0.000,  1.000], mean action: 1.446 [0.000, 3.000],  loss: 0.036992, mean_q: -0.183370, mean_eps: 0.670195\n",
            " 4087/10000: episode: 16, duration: 447.379s, episode steps: 247, steps per second:   1, episode reward:  1.000, mean reward:  0.004 [ 0.000,  1.000], mean action: 1.543 [0.000, 3.000],  loss: 0.048641, mean_q: -0.221440, mean_eps: 0.643330\n",
            " 4426/10000: episode: 17, duration: 612.551s, episode steps: 339, steps per second:   1, episode reward:  3.000, mean reward:  0.009 [ 0.000,  1.000], mean action: 1.531 [0.000, 3.000],  loss: 0.048101, mean_q: -0.280684, mean_eps: 0.616960\n",
            " 4669/10000: episode: 18, duration: 442.576s, episode steps: 243, steps per second:   1, episode reward:  1.000, mean reward:  0.004 [ 0.000,  1.000], mean action: 1.420 [0.000, 3.000],  loss: 0.038323, mean_q: -0.218150, mean_eps: 0.590770\n",
            " 4945/10000: episode: 19, duration: 501.701s, episode steps: 276, steps per second:   1, episode reward:  2.000, mean reward:  0.007 [ 0.000,  1.000], mean action: 1.453 [0.000, 3.000],  loss: 0.050956, mean_q: -0.272991, mean_eps: 0.567415\n",
            " 5213/10000: episode: 20, duration: 485.548s, episode steps: 268, steps per second:   1, episode reward:  2.000, mean reward:  0.007 [ 0.000,  1.000], mean action: 1.549 [0.000, 3.000],  loss: 0.036608, mean_q: -0.213320, mean_eps: 0.542935\n",
            " 5392/10000: episode: 21, duration: 325.418s, episode steps: 179, steps per second:   1, episode reward:  0.000, mean reward:  0.000 [ 0.000,  0.000], mean action: 1.469 [0.000, 3.000],  loss: 0.044241, mean_q: -0.119605, mean_eps: 0.522820\n",
            " 5668/10000: episode: 22, duration: 498.270s, episode steps: 276, steps per second:   1, episode reward:  2.000, mean reward:  0.007 [ 0.000,  1.000], mean action: 1.395 [0.000, 3.000],  loss: 0.044944, mean_q: -0.313883, mean_eps: 0.502345\n",
            " 5899/10000: episode: 23, duration: 416.941s, episode steps: 231, steps per second:   1, episode reward:  1.000, mean reward:  0.004 [ 0.000,  1.000], mean action: 1.710 [0.000, 3.000],  loss: 0.046922, mean_q: -0.178175, mean_eps: 0.479530\n",
            " 6241/10000: episode: 24, duration: 618.895s, episode steps: 342, steps per second:   1, episode reward:  3.000, mean reward:  0.009 [ 0.000,  1.000], mean action: 1.348 [0.000, 3.000],  loss: 0.032797, mean_q: -0.162184, mean_eps: 0.453745\n",
            " 6722/10000: episode: 25, duration: 878.031s, episode steps: 481, steps per second:   1, episode reward:  5.000, mean reward:  0.010 [ 0.000,  1.000], mean action: 1.478 [0.000, 3.000],  loss: 0.041487, mean_q: -0.168648, mean_eps: 0.416710\n",
            " 7158/10000: episode: 26, duration: 788.877s, episode steps: 436, steps per second:   1, episode reward:  6.000, mean reward:  0.014 [ 0.000,  1.000], mean action: 1.649 [0.000, 3.000],  loss: 0.030302, mean_q: -0.425267, mean_eps: 0.375445\n",
            " 7459/10000: episode: 27, duration: 543.638s, episode steps: 301, steps per second:   1, episode reward:  2.000, mean reward:  0.007 [ 0.000,  1.000], mean action: 1.731 [0.000, 3.000],  loss: 0.031116, mean_q: -0.388825, mean_eps: 0.342280\n",
            " 7861/10000: episode: 28, duration: 725.486s, episode steps: 402, steps per second:   1, episode reward:  4.000, mean reward:  0.010 [ 0.000,  1.000], mean action: 1.510 [0.000, 3.000],  loss: 0.021150, mean_q: -0.209260, mean_eps: 0.310645\n",
            " 8275/10000: episode: 29, duration: 746.817s, episode steps: 414, steps per second:   1, episode reward:  4.000, mean reward:  0.010 [ 0.000,  1.000], mean action: 1.568 [0.000, 3.000],  loss: 0.021022, mean_q: -0.156402, mean_eps: 0.273925\n",
            " 8555/10000: episode: 30, duration: 507.048s, episode steps: 280, steps per second:   1, episode reward:  1.000, mean reward:  0.004 [ 0.000,  1.000], mean action: 1.396 [0.000, 3.000],  loss: 0.015950, mean_q: -0.323598, mean_eps: 0.242695\n",
            " 8798/10000: episode: 31, duration: 438.872s, episode steps: 243, steps per second:   1, episode reward:  0.000, mean reward:  0.000 [ 0.000,  0.000], mean action: 1.490 [0.000, 3.000],  loss: 0.008981, mean_q: -0.345121, mean_eps: 0.219160\n",
            " 9308/10000: episode: 32, duration: 927.470s, episode steps: 510, steps per second:   1, episode reward:  6.000, mean reward:  0.012 [ 0.000,  1.000], mean action: 1.359 [0.000, 3.000],  loss: 0.018120, mean_q: -0.184129, mean_eps: 0.185275\n",
            " 9519/10000: episode: 33, duration: 391.291s, episode steps: 211, steps per second:   1, episode reward:  0.000, mean reward:  0.000 [ 0.000,  0.000], mean action: 1.621 [0.000, 3.000],  loss: 0.014459, mean_q: 0.551720, mean_eps: 0.152830\n",
            " 9885/10000: episode: 34, duration: 664.323s, episode steps: 366, steps per second:   1, episode reward:  3.000, mean reward:  0.008 [ 0.000,  1.000], mean action: 1.544 [0.000, 3.000],  loss: 0.015353, mean_q: 0.538163, mean_eps: 0.126865\n",
            "done, took 16365.814 seconds\n"
          ]
        },
        {
          "data": {
            "text/plain": [
              "<keras.callbacks.History at 0x7f725b7a3f90>"
            ]
          },
          "execution_count": 37,
          "metadata": {},
          "output_type": "execute_result"
        }
      ]
    },
    {
      "cell_type": "code",
      "metadata": {
        "id": "Tafm4kwjDcyd"
      },
      "source": [
        "import numpy as np\n",
        "import pandas as pd\n",
        "import os\n",
        "from PIL import Image\n",
        "from tensorflow.keras.models import Sequential\n",
        "from tensorflow.keras.layers import Dense, Flatten, Input, Conv2D, Permute\n",
        "from tensorflow.keras.optimizers import Adam\n",
        "\n",
        "#Building agent with Keras-RL\n",
        "from rl.agents import DQNAgent\n",
        "from rl.memory import SequentialMemory\n",
        "from rl.policy import LinearAnnealedPolicy, EpsGreedyQPolicy\n",
        "from rl.processors import Processor\n",
        "\n",
        "# Params to set\n",
        "WINDOW_LENGTH = 3\n",
        "INPUT_SHAPE = (84, 84)\n",
        "\n",
        "\n",
        "class AtariProcessor(Processor):\n",
        "    def process_observation(self, observation):\n",
        "        assert observation.ndim == 3  # (height, width, channel)\n",
        "        img = Image.fromarray(observation)\n",
        "        img = img.resize(INPUT_SHAPE).convert('L')  # resize and convert to grayscale\n",
        "        processed_observation = np.array(img)\n",
        "        assert processed_observation.shape == INPUT_SHAPE\n",
        "        return processed_observation.astype('uint8')  # saves storage in experience memory\n",
        "\n",
        "    def process_state_batch(self, batch):\n",
        "        # We could perform this processing step in `process_observation`. In this case, however,\n",
        "        # we would need to store a `float32` array instead, which is 4x more memory intensive than\n",
        "        # an `uint8` array. This matters if we store 1M observations.\n",
        "        processed_batch = batch.astype('float32') / 255.\n",
        "        return processed_batch\n",
        "\n",
        "    def process_reward(self, reward):\n",
        "        return np.clip(reward, -1., 1.)\n",
        "\n",
        "\n",
        "class ModelCNN:\n",
        "\n",
        "  def __init__(self, game):\n",
        "    self.game = game\n",
        "    self.env = gym.make(game)\n",
        "    self.shape = self.env.observation_space.shape\n",
        "    self.actions = self.env.action_space.n\n",
        "    self.train_steps = 0\n",
        "    if not(os.path.isdir(self.game)):\n",
        "      os.mkdir(self.game)\n",
        "\n",
        "\n",
        "  def random_run(self, episodes=25):\n",
        "    #Random agent playing\n",
        "    episodes_list = [i for i in range(1 ,episodes+1)]\n",
        "    s = []\n",
        "    for episode in range(1, episodes+1):\n",
        "      state = self.env.reset()\n",
        "      done = False\n",
        "      score = 0\n",
        "      while not done:\n",
        "        action = random.randrange(self.actions)\n",
        "        n_state, reward, done, info = self.env.step(action)\n",
        "        score += reward\n",
        "      s.append(score)\n",
        "      print('Episode {} Score {}:'.format(episode, score))\n",
        "    self.env.close()\n",
        "\n",
        "    plt.plot(episodes_list, s, '--ro')\n",
        "    plt.title('Random Agent playing ' + str(episodes) + ' such games of ' \n",
        "              + self.game, fontsize=20);\n",
        "    plt.savefig(self.game + '/Random_Agent_' + str(episodes) + '.png')\n",
        "\n",
        "\n",
        "  def build_cnn(self):\n",
        "    #Building the Keras dense layer neural network model\n",
        "    input_shape = (WINDOW_LENGTH,) + INPUT_SHAPE\n",
        "\n",
        "    model_cnn = Sequential()\n",
        "    model_cnn.add(Permute((2, 3, 1), input_shape=input_shape))\n",
        "    model_cnn.add(Conv2D(32, (8,8), strides=(4, 4), activation='relu', input_shape=input_shape))\n",
        "    model_cnn.add(Conv2D(64, (4,4), strides=(2, 2), activation='relu'))\n",
        "    model_cnn.add(Conv2D(64, (3,3), strides=(1, 1), activation='relu'))\n",
        "    model_cnn.add(Flatten())\n",
        "    model_cnn.add(Dense(512, activation='relu'))\n",
        "    model_cnn.add(Dense(256, activation='relu'))\n",
        "    model_cnn.add(Dense(self.actions, activation='linear'))\n",
        "    model_cnn.summary()\n",
        "\n",
        "    self.model_cnn = model_cnn\n",
        "    return model_cnn\n",
        "\n",
        "\n",
        "  def build_agent(self, optimizer=Adam(learning_rate=0.00025)):\n",
        "    policy = LinearAnnealedPolicy(EpsGreedyQPolicy(), attr='eps', value_max=1., \n",
        "                                  value_min=.1, value_test=.2, nb_steps=1e3)\n",
        "\n",
        "    memory = SequentialMemory(limit=1000000, window_length=WINDOW_LENGTH)\n",
        "\n",
        "    processor = AtariProcessor()\n",
        "    \n",
        "    dqn = DQNAgent(model=self.model_cnn, processor=processor, memory=memory, \n",
        "                   policy=policy, enable_dueling_network=True, dueling_type='avg', \n",
        "                   nb_actions=self.actions, nb_steps_warmup=10, \n",
        "                   gamma=.99, train_interval=4, delta_clip=1.)\n",
        "    dqn.compile(optimizer)\n",
        "\n",
        "    self.agent = dqn\n",
        "    return dqn\n",
        "\n",
        "\n",
        "  def train_agent(self, nb_steps=1e4):\n",
        "    self.train_steps += nb_steps\n",
        "    self.train_history = self.agent.fit(self.env, nb_steps=nb_steps, \n",
        "                                        visualize=False, verbose=2)\n",
        "\n",
        "    f, (ax1, ax2) = plt.subplots(1, 2, figsize=(20, 5))\n",
        "    nb_of_episodes = [i for i in range(1, len(self.train_history.history['episode_reward'])+1)]\n",
        "    ax1.plot(nb_of_episodes, self.train_history.history['episode_reward'], '--g*')\n",
        "    ax1.grid()\n",
        "    ax1.set_title('The Training Rewards for each episode', fontsize = 20);\n",
        "    ax1.set_xticks(nb_of_episodes)\n",
        "    ax1.set_xticklabels(nb_of_episodes, rotation=45)\n",
        "    ax1.set_xlabel('Episodes', fontsize=18);\n",
        "    ax1.set_ylabel('Rewards', fontsize=18);\n",
        "\n",
        "    ax2.plot(nb_of_episodes, self.train_history.history['nb_episode_steps'], '--r*')\n",
        "    ax2.grid()\n",
        "    ax2.set_title('The number of steps for each episode', fontsize = 18);\n",
        "    ax2.set_xticks(nb_of_episodes)\n",
        "    ax2.set_xticklabels(nb_of_episodes, rotation=45)\n",
        "    ax2.set_xlabel('Episodes', fontsize=15);\n",
        "    ax2.set_ylabel('Count of steps', fontsize = 15);\n",
        "    f.tight_layout()\n",
        "    plt.suptitle('The Agent Testing', fontsize=25);\n",
        "\n",
        "    plt.show()\n",
        "    plt.savefig(self.game + '/Train_agent_' + str(self.train_steps) + '.png')\n",
        "  \n",
        "\n",
        "  def test_agent(self, nb_episodes=25):\n",
        "    scores = self.agent.test(self.env, nb_episodes=nb_episodes, visualize=False)\n",
        "    print(np.mean(scores.history['episode_reward']))\n",
        "\n",
        "    f, (ax1, ax2) = plt.subplots(1, 2, figsize=(20, 5))\n",
        "    nb_of_episodes = [i for i in range(1, len(scores.history['episode_reward'])+1)]\n",
        "    ax1.plot(nb_of_episodes, scores.history['episode_reward'], '--g*')\n",
        "    ax1.grid()\n",
        "    ax1.set_title('The Training Rewards for each episode', fontsize = 20);\n",
        "    ax1.set_xticks(nb_of_episodes)\n",
        "    ax1.set_xticklabels(nb_of_episodes, rotation=45)\n",
        "    ax1.set_xlabel('Episodes', fontsize=18);\n",
        "    ax1.set_ylabel('Rewards', fontsize=18);\n",
        "\n",
        "    ax2.plot(nb_of_episodes, scores.history['nb_steps'], '--r*')\n",
        "    ax2.grid()\n",
        "    ax2.set_title('The number of steps for each episode', fontsize = 18);\n",
        "    ax2.set_xticks(nb_of_episodes)\n",
        "    ax2.set_xticklabels(nb_of_episodes, rotation=45)\n",
        "    ax2.set_xlabel('Episodes', fontsize=15);\n",
        "    ax2.set_ylabel('Count of steps', fontsize = 15);\n",
        "    f.tight_layout()\n",
        "    plt.suptitle('The Agent Testing', fontsize=25);\n",
        "\n",
        "    plt.show()\n",
        "    plt.savefig(self.game + '/Test_agent_' + str(self.train_steps) + '_' \n",
        "                + str(nb_episodes) + '.png')\n",
        "  \n",
        "\n",
        "  def save_weights(self):\n",
        "    self.agent.save_weights(self.game + '/DNN_weights_' + str(self.train_steps) \n",
        "    + '.h5f')"
      ],
      "execution_count": null,
      "outputs": []
    },
    {
      "cell_type": "code",
      "metadata": {
        "id": "9ugn12Rnsn8b"
      },
      "source": [
        ""
      ],
      "execution_count": null,
      "outputs": []
    },
    {
      "cell_type": "markdown",
      "metadata": {
        "id": "uHdNf6qiiUdI"
      },
      "source": [
        "New Section. -Ananya\n"
      ]
    },
    {
      "cell_type": "code",
      "metadata": {
        "id": "Frii_w_7ssxB"
      },
      "source": [
        "import numpy as np\n",
        "import pandas as pd\n",
        "import os\n",
        "from tensorflow.keras.models import Sequential\n",
        "from tensorflow.keras.layers import Dense, Flatten, Input, Dropout\n",
        "from tensorflow.keras.optimizers import Adam\n",
        "\n",
        "#Building agent with Keras-RL\n",
        "from rl.agents import DQNAgent\n",
        "from rl.memory import SequentialMemory\n",
        "from rl.policy import LinearAnnealedPolicy, EpsGreedyQPolicy, BoltzmannQPolicy\n",
        "from rl.callbacks import FileLogger, ModelIntervalCheckpoint\n",
        "\n",
        "# Params to set\n",
        "WINDOW_LENGTH = 3\n",
        "\n",
        "\n",
        "class ModelRAM:\n",
        "\n",
        "  def __init__(self, game):\n",
        "    self.game = game\n",
        "    self.env = gym.make(game)\n",
        "    self.ram = self.env.observation_space.shape\n",
        "    self.actions = self.env.action_space.n\n",
        "    self.train_steps = 0\n",
        "    if not(os.path.isdir(self.game)):\n",
        "      os.mkdir(self.game)\n",
        "    if self.game == 'Breakout-v0-ram' or self.game == 'Breakout-v0':\n",
        "      self.TRAIN_INTERVAL = 4\n",
        "    else:\n",
        "      self.TRAIN_INTERVAL = 3\n",
        "\n",
        "\n",
        "  def random_run(self, episodes=25):\n",
        "    #Random agent playing\n",
        "    episodes_list = [i for i in range(1 ,episodes+1)]\n",
        "    s = []\n",
        "    for episode in range(1, episodes+1):\n",
        "      state = self.env.reset()\n",
        "      done = False\n",
        "      score = 0\n",
        "      while not done:\n",
        "        action = random.randrange(self.actions)\n",
        "        n_state, reward, done, info = self.env.step(action)\n",
        "        score += reward\n",
        "      s.append(score)\n",
        "      print('Episode {} Score {}:'.format(episode, score))\n",
        "    self.env.close()\n",
        "\n",
        "    plt.plot(episodes_list, s, '--ro')\n",
        "    plt.title('Random Agent playing ' + str(episodes) + ' such games of ' \n",
        "              + self.game, fontsize=20);\n",
        "    plt.savefig(self.game + '/Random_Agent_' + str(episodes) + '.png')\n",
        "\n",
        "\n",
        "  def build_dnn(self):\n",
        "    #Building the Keras dense layer neural network model\n",
        "    input_shape = self.ram[0]\n",
        "    seq_model = Sequential()\n",
        "    seq_model.add(Flatten(input_shape=(WINDOW_LENGTH, self.ram[0])))\n",
        "    seq_model.add(Dense(256, activation='relu'))\n",
        "    seq_model.add(Dense(128, activation='relu'))\n",
        "    seq_model.add(Dropout(0.5))\n",
        "    seq_model.add(Dense(self.actions, activation='linear'))\n",
        "    print(seq_model.summary())\n",
        "\n",
        "    self.dnn_model = seq_model\n",
        "    return seq_model\n",
        "\n",
        "\n",
        "  def build_agent(self, optimizer=Adam(learning_rate=1e-4), POLICY = 'EPSG'):\n",
        "    if POLICY == 'EPSG':\n",
        "      policy = LinearAnnealedPolicy(EpsGreedyQPolicy(), attr='eps', value_max=1., \n",
        "                                  value_min=.1, value_test=.2, nb_steps=1e3)\n",
        "    else:\n",
        "      policy = BoltzmannQPolicy()\n",
        "    \n",
        "    memory = SequentialMemory(limit=1000, window_length=WINDOW_LENGTH)\n",
        "\n",
        "    dqn = DQNAgent(model=self.dnn_model, memory=memory, policy=policy,\n",
        "                  enable_dueling_network=True, dueling_type='avg', \n",
        "                   nb_actions=self.actions, nb_steps_warmup=1000, train_interval= self.TRAIN_INTERVAL)\n",
        "    dqn.compile(optimizer)\n",
        "\n",
        "    self.agent = dqn\n",
        "    return dqn\n",
        "\n",
        "\n",
        "  def train_agent(self, nb_steps=1e4):\n",
        "    self.train_steps += nb_steps\n",
        "    checkpoints = self.game + '/Train_agent_dqn_weights_{step}.h5f'\n",
        "    \n",
        "    callbacks = [ModelIntervalCheckpoint(checkpoints, interval=2500)]\n",
        "    self.train_history = self.agent.fit(self.env, nb_steps=nb_steps, \n",
        "                                        visualize=False, verbose=2, callbacks = callbacks)\n",
        "\n",
        "    f, (ax1, ax2, ax3) = plt.subplots(1, 3, figsize=(20, 5))\n",
        "    nb_of_episodes = [i for i in range(1, len(self.train_history.history['episode_reward'])+1)]\n",
        "    ax1.plot(nb_of_episodes, self.train_history.history['episode_reward'], '--g*')\n",
        "    ax1.grid()\n",
        "    ax1.set_title('The Training Rewards for each episode', fontsize = 18);\n",
        "    #ax1.set_xticks(nb_of_episodes)\n",
        "    #ax1.set_xticklabels(nb_of_episodes, rotation=45)\n",
        "    ax1.set_xlabel('Episodes', fontsize=18);\n",
        "    ax1.set_ylabel('Rewards', fontsize=18);\n",
        "\n",
        "    ax2.plot(nb_of_episodes, self.train_history.history['nb_episode_steps'], '--r*')\n",
        "    ax2.grid()\n",
        "    ax2.set_title('The number of steps for each episode', fontsize = 18);\n",
        "    ax2.set_xticks(nb_of_episodes)\n",
        "    #ax2.set_xticklabels(nb_of_episodes, rotation=45)\n",
        "    ax2.set_xlabel('Episodes', fontsize=15);\n",
        "    ax2.set_ylabel('Count of steps', fontsize = 15);\n",
        "\n",
        "\n",
        "    mean_rewards = [i/j for i,j in zip(self.train_history.history['episode_reward'], self.train_history.history['nb_episode_steps'])]\n",
        "    #print(mean)\n",
        "    ax3.plot(nb_of_episodes,mean_rewards, '--b*')\n",
        "    ax3.grid()\n",
        "    ax3.set_title('Mean Reward per episode', fontsize = 18)\n",
        "    ax3.set_ylabel('Mean rewards', fontsize = 15)\n",
        "    ax3.set_xlabel('Episodes', fontsize = 15)\n",
        "    plt.show()\n",
        "    plt.savefig(self.game + '/Train_agent_' + str(self.train_steps) + '.png')\n",
        "    f.tight_layout()\n",
        "    plt.suptitle('The Agent Training', fontsize=25);  \n",
        "\n",
        "  def test_agent(self, nb_episodes=25):\n",
        "    scores = self.agent.test(self.env, nb_episodes=nb_episodes, visualize=False)\n",
        "    print(np.mean(scores.history['episode_reward']))\n",
        "\n",
        "    f, (ax1, ax2) = plt.subplots(1, 2, figsize=(20, 5))\n",
        "    nb_of_episodes = [i for i in range(1, len(scores.history['episode_reward'])+1)]\n",
        "    ax1.plot(nb_of_episodes, scores.history['episode_reward'], '--g*')\n",
        "    ax1.grid()\n",
        "    ax1.set_title('The Training Rewards for each episode', fontsize = 20);\n",
        "    ax1.set_xticks(nb_of_episodes)\n",
        "    ax1.set_xticklabels(nb_of_episodes, rotation=45)\n",
        "    ax1.set_xlabel('Episodes', fontsize=18);\n",
        "    ax1.set_ylabel('Rewards', fontsize=18);\n",
        "\n",
        "    ax2.plot(nb_of_episodes, scores.history['nb_steps'], '--r*')\n",
        "    ax2.grid()\n",
        "    ax2.set_title('The number of steps for each episode', fontsize = 18);\n",
        "    ax2.set_xticks(nb_of_episodes)\n",
        "    ax2.set_xticklabels(nb_of_episodes, rotation=45)\n",
        "    ax2.set_xlabel('Episodes', fontsize=15);\n",
        "    ax2.set_ylabel('Count of steps', fontsize = 15);\n",
        "    f.tight_layout()\n",
        "    plt.suptitle('The Agent Testing', fontsize=25);\n",
        "\n",
        "    plt.show()\n",
        "    plt.savefig(self.game + '/Test_agent_' + str(self.train_steps) + '_' \n",
        "                + str(nb_episodes) + '.png')\n",
        "  \n",
        "\n",
        "  def save_weights(self):\n",
        "    self.agent.save_weights(self.game + '/DNN_weights_' + str(self.train_steps) \n",
        "    + '.h5f')"
      ],
      "execution_count": null,
      "outputs": []
    }
  ]
}